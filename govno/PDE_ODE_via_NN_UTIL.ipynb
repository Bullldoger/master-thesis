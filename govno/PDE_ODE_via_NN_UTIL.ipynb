{
 "cells": [
  {
   "cell_type": "code",
   "execution_count": 259,
   "metadata": {
    "colab": {},
    "colab_type": "code",
    "id": "msTfM19McyJO"
   },
   "outputs": [],
   "source": [
    "import torch\n",
    "import torch.nn as nn\n",
    "import torch.optim as optim\n",
    "import torch.autograd as grad\n",
    "import matplotlib.pyplot as plt\n",
    "\n",
    "import numpy as np\n",
    "import time\n",
    "\n",
    "import imageio"
   ]
  },
  {
   "cell_type": "code",
   "execution_count": 2,
   "metadata": {
    "colab": {},
    "colab_type": "code",
    "id": "olENwyqFOVVS"
   },
   "outputs": [],
   "source": [
    "from IPython.display import clear_output\n",
    "plot = True"
   ]
  },
  {
   "cell_type": "markdown",
   "metadata": {},
   "source": [
    "## Implementation of base DE solver"
   ]
  },
  {
   "cell_type": "code",
   "execution_count": 3,
   "metadata": {},
   "outputs": [],
   "source": [
    "class solver:\n",
    "    \"\"\"\n",
    "    Base class for solving DE(differential equations)\n",
    "    \"\"\"\n",
    "    \n",
    "    def __init__(self, input_dim=1, output_dim=1, grid=None, net=None, **kwargs):\n",
    "        \"\"\"\n",
    "        input_dim - number of independent input variables\n",
    "        output_dim - number of output variables\n",
    "        grid - torch tensor with shape (grid_size, input_dim)\n",
    "        \"\"\"\n",
    "        \n",
    "        if net is None:\n",
    "            raise Exception('net must be not None')\n",
    "        \n",
    "        self.input_dim         = input_dim\n",
    "        self.output_dim        = output_dim\n",
    "        \n",
    "        self.grid_size         = kwargs.get('grid_size', 0.1)\n",
    "        self.epochs            = kwargs.get('epochs', 100)\n",
    "        self.lr                = kwargs.get('lr', 0.001)\n",
    "        self.nn                = net\n",
    "        self.optim             = kwargs.get('optim', optim.Adam)(self.nn.parameters(), lr=self.lr)\n",
    "        self.loss              = kwargs.get('loss', lambda x: x ** 2)\n",
    "        self.grid              = grid\n",
    "        self.ders              = {\n",
    "            'left'   : lambda f_l, f_c, d: (f_c - f_l) / (d),\n",
    "            'center' : lambda f_l, f_r, d: (f_r - f_l) / (2 * d),\n",
    "            'right'  : lambda f_c, f_r, d: (f_r - f_c) / (d)\n",
    "        }\n",
    "    \n",
    "    def derivatives(self, batch_grid=None, var_inds=[0]):\n",
    "        \n",
    "        batches_grds = []\n",
    "        y_s          = []\n",
    "        output       = []\n",
    "        \n",
    "        for var_ind in var_inds:\n",
    "            \n",
    "            D_l, D_r             = torch.tensor([[0.0] * self.input_dim]), torch.tensor([[0.0] * self.input_dim])\n",
    "            D_l[0, var_ind]      = -self.grid_size\n",
    "            D_r[0, var_ind]      = self.grid_size\n",
    "            \n",
    "            batch_grd            = batch_grid\n",
    "            batch_grd_prev       = batch_grd + D_l \n",
    "            batch_grd_next       = batch_grd + D_r\n",
    "            \n",
    "            batches_grds += [(batch_grd_prev, batch_grd, batch_grd_next)]\n",
    "            y_s          += [(self.nn(batch_grd_prev), self.nn(batch_grd), self.nn(batch_grd_next))]\n",
    "            \n",
    "        for (batch_grd_prev, batch_grd, batch_grd_next), (y_prev, y, y_next) in zip(batches_grds, y_s):\n",
    "            \n",
    "            \n",
    "            dy_prev              = self.ders['left'](y_prev, y, self.grid_size) \n",
    "            dy_cur               = self.ders['center'](y_prev, y_next, self.grid_size) \n",
    "            dy_next              = self.ders['right'](y, y_next, self.grid_size) \n",
    "\n",
    "            d2y                  = self.ders['center'](dy_prev, dy_next, self.grid_size)\n",
    "            \n",
    "            output += [((batch_grd_prev, batch_grd, batch_grd_next), \n",
    "                        (y_prev, y, y_next), (dy_prev, dy_cur, dy_next), \n",
    "                        (d2y))]\n",
    "            \n",
    "        return output\n",
    "        \n",
    "    def calc_psi(self):\n",
    "        pass\n",
    "        \n",
    "    def _train_step(self, shuffle=False):    \n",
    "        \n",
    "        \"\"\"\n",
    "            return loss\n",
    "        \"\"\"\n",
    "        pass\n",
    "    \n",
    "    def _plot_e(self, axes=None, errors=None):\n",
    "        axes.set_title(\"Error\")\n",
    "        axes.set_xlabel(\"#iteration\")\n",
    "        axes.set_ylabel(\"log(e)\")\n",
    "        axes.plot(np.log(errors), label='log(e)')\n",
    "        axes.legend()\n",
    "        axes.grid()\n",
    "    \n",
    "    def _plot_f(self, axes=None):\n",
    "        pass\n",
    "    \n",
    "    def _plot(self, plt_f=False, plt_e=False, errors=None, **kwargs):\n",
    "        figsize = kwargs.get('figsize', (8, 5))\n",
    "        \n",
    "        if plt_e and plt_f:\n",
    "            fig, axes = plt.subplots(nrows=1, ncols=2, figsize=figsize)\n",
    "            axs = axes.flatten()\n",
    "            self._plot_e(axes=axs[0], errors=errors)\n",
    "            self._plot_f(axes=axs[1])\n",
    "        elif plt_e:\n",
    "            fig, axes = plt.subplots(nrows=1, ncols=1, figsize=figsize)\n",
    "            self._plot_e(axes=axes, errors=errors)\n",
    "        elif plt_f:\n",
    "            fig, axes = plt.subplots(nrows=1, ncols=1, figsize=figsize)\n",
    "            self._plot_f(axes=axes)\n",
    "        else:\n",
    "            return\n",
    "                \n",
    "        plt.show()\n",
    "    \n",
    "    def train(self, shuffle=False, **kwargs):\n",
    "        \n",
    "        epochs    = self.epochs\n",
    "        errors    = list()\n",
    "        plot_f    = kwargs.get('plot_f', False)\n",
    "        plot_e    = kwargs.get('plot_e', False)\n",
    "        plot_cond = kwargs.get('plot_cond', lambda e: e % 250 == 0)\n",
    "        \n",
    "        for epoch in range(epochs):\n",
    "            \n",
    "            loss = 0\n",
    "            \n",
    "            self.optim.zero_grad()\n",
    "            loss = self._train_step()\n",
    "            \n",
    "            loss.backward(retain_graph=True)\n",
    "            self.optim.step()\n",
    "            \n",
    "            errors += [loss.item()]\n",
    "            \n",
    "            if plot_cond(epoch):\n",
    "                \n",
    "                clear_output()\n",
    "                self._plot(plt_f=plot_f, plt_e=plot_e, errors=errors, **kwargs)"
   ]
  },
  {
   "cell_type": "markdown",
   "metadata": {},
   "source": [
    "## ODE solving"
   ]
  },
  {
   "cell_type": "code",
   "execution_count": 243,
   "metadata": {},
   "outputs": [],
   "source": [
    "class ODESolver(solver):\n",
    "    \"\"\"\n",
    "        ODE solver\n",
    "    \"\"\"\n",
    "    def __init__(self, input_dim=1, output_dim=1, grid=None, net=None, **kwargs):\n",
    "        \"\"\"\n",
    "        input_dim - number of independent input variables\n",
    "        output_dim - number of output variables\n",
    "        grid - torch tensor with shape (grid_size, input_dim)\n",
    "        \"\"\"\n",
    "        \n",
    "        solver.__init__(self, input_dim=input_dim, output_dim=output_dim, grid=grid, net=net, **kwargs)\n",
    "        \n",
    "        \n",
    "    def evaluate(self, INPUT=None):    \n",
    "    \n",
    "        y = self.nn(INPUT)\n",
    "        return self.calc_psi(INPUT[:, 0], y[:, 0])\n",
    "    \n",
    "        \n",
    "    def _plot_f(self, axes=None):\n",
    "        axes.set_title(\"Solution\")\n",
    "        axes.set_xlabel(\"x\")\n",
    "        axes.set_ylabel(\"y\")\n",
    "        \n",
    "        x = self.grid\n",
    "        y = self.calc_psi(x, self.nn(x))\n",
    "        \n",
    "        x = x.detach().numpy()\n",
    "        y = y.detach().numpy()\n",
    "        \n",
    "        axes.plot(x, y, label='Solution')\n",
    "        axes.legend()\n",
    "        axes.grid()\n",
    "        \n",
    "    def f(self, x_cur):\n",
    "        return -1 - 2 * x_cur\n",
    "        \n",
    "    def calc_psi(self, x_cur, y_cur):\n",
    "        return x_cur * (1 - x_cur) * y_cur\n",
    "    \n",
    "    def calc_dpsi(self, x_cur, y_cur, dy_cur):\n",
    "        return (1 - 2 * x_cur) * y_cur + (x_cur - x_cur ** 2) * dy_cur\n",
    "    \n",
    "    def calc_d2psi(self, x_cur, y_cur, dy_cur, dy2_cur):\n",
    "        return -2 * y_cur + (1 - 2 * x_cur) * dy_cur + (x_cur - x_cur ** 2) * dy2_cur\n",
    "    \n",
    "    def _train_step(self, shuffle=False):    \n",
    "        \n",
    "        \"\"\"\n",
    "            return loss\n",
    "        \"\"\"\n",
    "        \n",
    "        x, y, dy, d2y = self.derivatives(batch_grid=self.grid)[0]\n",
    "        x_prev, x_cur, x_next = x\n",
    "        y_prev, y_cur, y_next = y\n",
    "        dy_prev, dy_cur, dy_next = dy\n",
    "        d2y_cur = d2y[0]\n",
    "        \n",
    "        psi   = self.calc_psi(x_cur, y_cur)\n",
    "        dpsi  = self.calc_dpsi(x_cur, y_cur, dy_cur)\n",
    "        d2psi = self.calc_d2psi(x_cur, y_cur, dy_cur, d2y_cur)\n",
    "        f     = self.f(x_cur)\n",
    "        loss = ((d2psi + dpsi - f) ** 2).mean()\n",
    "        \n",
    "        return loss"
   ]
  },
  {
   "cell_type": "code",
   "execution_count": 261,
   "metadata": {},
   "outputs": [],
   "source": [
    "# def plot_for_offset(t):\n",
    "\n",
    "#     fig, ax = plt.subplots(figsize=(10, 5))\n",
    "    \n",
    "#     X = torch.arange(0, 1.001, 0.05)\n",
    "#     X = X[:, None]\n",
    "\n",
    "#     n = nn.Sequential(nn.Linear(1, 3), nn.ReLU(),\n",
    "#                       nn.Linear(3, 1))\n",
    "    \n",
    "#     ode_solver = ODESolver(net=n, grid=X, epochs=t, grid_size=0.01)\n",
    "\n",
    "#     ode_solver.train(plot_e=False, plot_f=False, figsize=(12, 7))\n",
    "    \n",
    "#     PSI = ode_solver.evaluate(ode_solver.grid)\n",
    "#     x   = ode_solver.grid[:, 0].detach().numpy()\n",
    "#     y   = PSI[:].detach().numpy()\n",
    "    \n",
    "#     ax.set_title(\"#Epochs - {}\".format(t))\n",
    "#     ax.plot(x, y, label='NN solution')\n",
    "#     ax.plot(x, x * (1 - x), label='Analytical solution')\n",
    "#     ax.grid()\n",
    "#     ax.legend()\n",
    "#     ax.set_ylim(0, (x * (1 - x)).max())\n",
    "\n",
    "#     fig.canvas.draw()\n",
    "#     image = np.frombuffer(fig.canvas.tostring_rgb(), dtype='uint8')\n",
    "#     image  = image.reshape(fig.canvas.get_width_height()[::-1] + (3,))\n",
    "\n",
    "#     return image\n",
    "\n",
    "# kwargs_write = {'fps':1.0, 'quantizer':'nq'}\n",
    "# imageio.mimsave('./ode_per_epoch.gif', [plot_for_offset(i) for i in range(0, 1500, 100)], fps=3);"
   ]
  },
  {
   "cell_type": "code",
   "execution_count": 257,
   "metadata": {},
   "outputs": [
    {
     "data": {
      "image/png": "[encoded data removed]",
      "text/plain": [
       "<Figure size 864x504 with 2 Axes>"
      ]
     },
     "metadata": {
      "needs_background": "light"
     },
     "output_type": "display_data"
    }
   ],
   "source": [
    "X = torch.arange(0, 1.001, 0.05)\n",
    "X = X[:, None]\n",
    "\n",
    "n = nn.Sequential(nn.Linear(1, 3), nn.ReLU(),\n",
    "                  nn.Linear(3, 1))\n",
    "ode_solver = ODESolver(net=n, grid=X, epochs=3501, grid_size=0.05)\n",
    "\n",
    "ode_solver.train(plot_e=True, plot_f=True, figsize=(12, 7))"
   ]
  },
  {
   "cell_type": "markdown",
   "metadata": {},
   "source": [
    "# PDE - transfer equation"
   ]
  },
  {
   "cell_type": "code",
   "execution_count": 162,
   "metadata": {},
   "outputs": [],
   "source": [
    "class PDESolver(solver):\n",
    "    \"\"\"\n",
    "        ODE solver\n",
    "    \"\"\"\n",
    "    \n",
    "    def __init__(self, input_dim=1, output_dim=1, grid=None, net=None, **kwargs):\n",
    "        \"\"\"\n",
    "        input_dim  - number of independent input variables\n",
    "        output_dim - number of output variables\n",
    "        grid       - torch tensor with shape (grid_size, input_dim)\n",
    "        \"\"\"\n",
    "        \n",
    "        solver.__init__(self, input_dim=input_dim, output_dim=output_dim, grid=grid, net=net, **kwargs)\n",
    "    \n",
    "    def evaluate(self, INPUT=None):    \n",
    "    \n",
    "        y = self.nn(INPUT)\n",
    "        return self.calc_psi(INPUT[:, 0, 0], INPUT[:, 0, 1], y[:, 0, 0])\n",
    "    \n",
    "    def f(self, x_cur, t_cur):\n",
    "        return t_cur - t_cur ** 2 - 2 * x_cur * t_cur + 2 * x_cur * t_cur ** 2 + x_cur - x_cur ** 2 - 2 * t_cur * x_cur + 2 * t_cur * x_cur ** 2\n",
    "        \n",
    "    def calc_psi(self, x_cur, t_cur, y_cur):\n",
    "        return (x_cur * (1 - x_cur) * t_cur * (1 - t_cur)) * y_cur\n",
    "    \n",
    "    def calc_dpsi_x(self, x_cur, t_cur, y_cur, dx_cur):\n",
    "        return (-1 + t_cur) * t_cur * ((-1 + 2 * x_cur) * y_cur + (-1 + x_cur) * x_cur * dx_cur)\n",
    "    \n",
    "    def calc_dpsi_t(self, x_cur, t_cur, y_cur, dt_cur):\n",
    "        return (-1 + x_cur) * x_cur * ((-1 + 2 * t_cur) * y_cur + (-1 + t_cur) * t_cur * dt_cur)\n",
    "    \n",
    "    def _train_step(self, shuffle=False):    \n",
    "        \"\"\"\n",
    "            return loss\n",
    "        \"\"\"\n",
    "        \n",
    "        (x, yx, dyx, d2yx), (t, yt, dyt, d2yt) = self.derivatives(batch_grid=self.grid, var_inds=[0, 1])\n",
    "        \n",
    "        x_prev, x_cur, x_next = x\n",
    "        t_prev, t_cur, t_next = t\n",
    "        \n",
    "        yx_prev, yx_cur, yx_next = yx\n",
    "        yt_prev, yt_cur, yt_next = yt\n",
    "        \n",
    "        dy_prev_x, dy_cur_x, dy_next_x = dyx\n",
    "        dy_prev_t, dy_cur_t, dy_next_t = dyt\n",
    "        \n",
    "        d2y_cur_x = d2yx[0]\n",
    "        d2y_cur_t = d2yt[0]\n",
    "        \n",
    "        psi     = self.calc_psi(x_cur, t_cur, yx_cur)\n",
    "        \n",
    "        dpsi_x  = self.calc_dpsi_x(x_cur, t_cur, yx_cur, dy_cur_x)\n",
    "        dpsi_t  = self.calc_dpsi_t(x_cur, t_cur, yx_cur, dy_cur_t)\n",
    "        f       = self.f(x_cur, t_cur)\n",
    "        \n",
    "        loss = (((dpsi_t + dpsi_x - f) ** 2)).sum()\n",
    "        \n",
    "        return loss"
   ]
  },
  {
   "cell_type": "code",
   "execution_count": 214,
   "metadata": {},
   "outputs": [
    {
     "name": "stdout",
     "output_type": "stream",
     "text": [
      "4.29 s ± 505 ms per loop (mean ± std. dev. of 7 runs, 1 loop each)\n"
     ]
    }
   ],
   "source": [
    "n = nn.Sequential(nn.Linear(2, 3), nn.ReLU(),\n",
    "                  nn.Linear(3, 1))\n",
    "\n",
    "dx, dt = 0.01, 0.01\n",
    "\n",
    "x = torch.arange(0, 1, dx)\n",
    "t = torch.arange(0, 1, dt)\n",
    "\n",
    "X, T = torch.meshgrid((x, t))\n",
    "\n",
    "grid = torch.stack((X.reshape(-1, 1), T.reshape(-1, 1)), dim=1)[:, :, 0]\n",
    "grid = grid[:, :, None]\n",
    "grid = grid.transpose(2, 1)\n",
    "\n",
    "pde_solver = PDESolver(net=n, grid=grid, input_dim=2, epochs=500, grid_size=0.01, lr=0.05)\n",
    "%timeit pde_solver.train(plot_e=False, plot_f=False, figsize=(12, 7))"
   ]
  },
  {
   "cell_type": "code",
   "execution_count": 215,
   "metadata": {},
   "outputs": [
    {
     "data": {
      "text/plain": [
       "(500, 4290)"
      ]
     },
     "execution_count": 215,
     "metadata": {},
     "output_type": "execute_result"
    }
   ],
   "source": [
    "500, 4290"
   ]
  },
  {
   "cell_type": "code",
   "execution_count": 212,
   "metadata": {},
   "outputs": [
    {
     "data": {
      "text/plain": [
       "(250, 1860)"
      ]
     },
     "execution_count": 212,
     "metadata": {},
     "output_type": "execute_result"
    }
   ],
   "source": [
    "250, 1860"
   ]
  },
  {
   "cell_type": "code",
   "execution_count": 208,
   "metadata": {},
   "outputs": [
    {
     "data": {
      "text/plain": [
       "(100, 739)"
      ]
     },
     "execution_count": 208,
     "metadata": {},
     "output_type": "execute_result"
    }
   ],
   "source": [
    "100, 739"
   ]
  },
  {
   "cell_type": "code",
   "execution_count": 209,
   "metadata": {},
   "outputs": [
    {
     "data": {
      "text/plain": [
       "(50, 394)"
      ]
     },
     "execution_count": 209,
     "metadata": {},
     "output_type": "execute_result"
    }
   ],
   "source": [
    "50, 394"
   ]
  },
  {
   "cell_type": "code",
   "execution_count": 210,
   "metadata": {},
   "outputs": [
    {
     "data": {
      "text/plain": [
       "(1, 9.55)"
      ]
     },
     "execution_count": 210,
     "metadata": {},
     "output_type": "execute_result"
    }
   ],
   "source": [
    "1, 9.55"
   ]
  },
  {
   "cell_type": "code",
   "execution_count": 260,
   "metadata": {},
   "outputs": [],
   "source": [
    "# PSI = pde_solver.evaluate(pde_solver.grid)\n",
    "\n",
    "# def plot_for_offset(t):\n",
    "\n",
    "#     fig, ax = plt.subplots(figsize=(10, 5))\n",
    "    \n",
    "#     x = pde_solver.grid[t::100, 0, 0].detach().numpy()\n",
    "#     y = PSI[t::100].detach().numpy()\n",
    "#     T = pde_solver.grid[100 * t, 0, 0].detach().numpy()\n",
    "    \n",
    "#     ax.plot(x, y, label='NN solution')\n",
    "#     ax.plot(x, x * (1 - x) * T * (1 - T), label='Analytical solution')\n",
    "#     ax.grid()\n",
    "#     ax.legend()\n",
    "#     ax.set_ylim(0, PSI.max().item())\n",
    "\n",
    "#     fig.canvas.draw()\n",
    "#     image = np.frombuffer(fig.canvas.tostring_rgb(), dtype='uint8')\n",
    "#     image  = image.reshape(fig.canvas.get_width_height()[::-1] + (3,))\n",
    "\n",
    "#     return image\n",
    "\n",
    "# kwargs_write = {'fps':1.0, 'quantizer':'nq'}\n",
    "# imageio.mimsave('./transfer_eq_25.gif', [plot_for_offset(i) for i in range(0, 100, 5)], fps=20);"
   ]
  }
 ],
 "metadata": {
  "colab": {
   "name": "PDE/ODE via NN.ipynb",
   "provenance": []
  },
  "kernelspec": {
   "display_name": "Python 3",
   "language": "python",
   "name": "python3"
  },
  "language_info": {
   "codemirror_mode": {
    "name": "ipython",
    "version": 3
   },
   "file_extension": ".py",
   "mimetype": "text/x-python",
   "name": "python",
   "nbconvert_exporter": "python",
   "pygments_lexer": "ipython3",
   "version": "3.7.4"
  }
 },
 "nbformat": 4,
 "nbformat_minor": 4
}
