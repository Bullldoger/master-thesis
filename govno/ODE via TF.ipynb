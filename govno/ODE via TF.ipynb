{
 "cells": [
  {
   "cell_type": "code",
   "execution_count": 4,
   "metadata": {},
   "outputs": [],
   "source": [
    "import tensorflow as tf\n",
    "from tensorflow.examples.tutorials.mnist import input_data\n",
    "import numpy as np\n",
    "\n",
    "import tqdm"
   ]
  },
  {
   "cell_type": "code",
   "execution_count": 5,
   "metadata": {},
   "outputs": [],
   "source": [
    "learning_rate = 0.0005\n",
    "training_epochs = 15000\n",
    "display_step = 500\n",
    "\n",
    "dx = 0.1"
   ]
  },
  {
   "cell_type": "code",
   "execution_count": 6,
   "metadata": {},
   "outputs": [],
   "source": [
    "grid = np.arange(0, 1 + dx / 2, dx)[:, None]"
   ]
  },
  {
   "cell_type": "code",
   "execution_count": 7,
   "metadata": {},
   "outputs": [],
   "source": [
    "n_hidden_1 = 2\n",
    "n_hidden_2 = 2\n",
    "n_input = 1\n",
    "n_classes = 1"
   ]
  },
  {
   "cell_type": "code",
   "execution_count": 8,
   "metadata": {},
   "outputs": [],
   "source": [
    "X = tf.placeholder(\"float\", [None, n_input])\n",
    "\n",
    "weights = {\n",
    "    'h1': tf.Variable(tf.random_normal([n_input, n_hidden_1])),\n",
    "    'h2': tf.Variable(tf.random_normal([n_hidden_1, n_hidden_2])),\n",
    "    'out': tf.Variable(tf.random_normal([n_hidden_2, n_classes]))\n",
    "}\n",
    "biases = {\n",
    "    'b1': tf.Variable(tf.random_normal([n_hidden_1])),\n",
    "    'b2': tf.Variable(tf.random_normal([n_hidden_2])),\n",
    "    'out': tf.Variable(tf.random_normal([n_classes]))\n",
    "}"
   ]
  },
  {
   "cell_type": "code",
   "execution_count": 9,
   "metadata": {},
   "outputs": [],
   "source": [
    "def multilayer_perceptron(x):\n",
    "    layer_1 = tf.nn.elu(tf.add(tf.matmul(x, weights['h1']), biases['b1']))\n",
    "    layer_2 = tf.nn.elu(tf.add(tf.matmul(layer_1, weights['h2']), biases['b2']))\n",
    "    out_layer = tf.matmul(layer_2, weights['out']) + biases['out']\n",
    "    return out_layer"
   ]
  },
  {
   "cell_type": "code",
   "execution_count": 10,
   "metadata": {},
   "outputs": [
    {
     "name": "stdout",
     "output_type": "stream",
     "text": [
      "WARNING:tensorflow:From //anaconda3/envs/py37/lib/python3.7/site-packages/tensorflow_core/python/ops/nn_grad.py:423: where (from tensorflow.python.ops.array_ops) is deprecated and will be removed in a future version.\n",
      "Instructions for updating:\n",
      "Use tf.where in 2.0, which has the same broadcast rule as np.where\n"
     ]
    }
   ],
   "source": [
    "model_output = multilayer_perceptron(X)\n",
    "(dy_dx, ) = tf.gradients(model_output, X)\n",
    "(d2y_dx2, ) = tf.gradients(dy_dx, X)\n",
    "loss = tf.reduce_mean(tf.pow(d2y_dx2 + dy_dx + tf.sin(X) - tf.cos(X), 2)) + tf.reduce_mean(tf.pow(model_output[0], 2))"
   ]
  },
  {
   "cell_type": "code",
   "execution_count": 11,
   "metadata": {},
   "outputs": [],
   "source": [
    "optimizer = tf.train.AdamOptimizer(learning_rate=learning_rate)\n",
    "train_op = optimizer.minimize(loss)\n",
    "init = tf.global_variables_initializer()\n",
    "train_errors = []\n",
    "y, err = None, None"
   ]
  },
  {
   "cell_type": "code",
   "execution_count": 13,
   "metadata": {},
   "outputs": [
    {
     "name": "stdout",
     "output_type": "stream",
     "text": [
      "Epoch: 0001 cost=-0.110649951\n",
      "Epoch: 0501 cost=-0.705009878\n",
      "Epoch: 1001 cost=-1.319366336\n",
      "Epoch: 1501 cost=-1.432645798\n",
      "Epoch: 2001 cost=-1.329745650\n",
      "Epoch: 2501 cost=-1.248964190\n",
      "Epoch: 3001 cost=-1.208823204\n",
      "Epoch: 3501 cost=-1.125244260\n",
      "Epoch: 4001 cost=-1.714888096\n",
      "Epoch: 4501 cost=-1.720943451\n",
      "Epoch: 5001 cost=-1.645782113\n",
      "Epoch: 5501 cost=-1.546715498\n",
      "Epoch: 6001 cost=-1.520118117\n",
      "Epoch: 6501 cost=-2.068475723\n",
      "Epoch: 7001 cost=-2.172452688\n",
      "Epoch: 7501 cost=-2.597751141\n",
      "Epoch: 8001 cost=-2.200881958\n",
      "Epoch: 8501 cost=-2.428083897\n",
      "Epoch: 9001 cost=-2.422296047\n",
      "Epoch: 9501 cost=-2.338119030\n",
      "Epoch: 10001 cost=-2.434354544\n",
      "Epoch: 10501 cost=-2.641267538\n",
      "Epoch: 11001 cost=-2.849961758\n",
      "Epoch: 11501 cost=-2.995739698\n",
      "Epoch: 12001 cost=-2.904284716\n",
      "Epoch: 12501 cost=-2.982925415\n",
      "Epoch: 13001 cost=-2.785286903\n",
      "Epoch: 13501 cost=-3.066493750\n",
      "Epoch: 14001 cost=-2.863934040\n",
      "Epoch: 14501 cost=-2.888578892\n",
      "Optimization Finished!\n"
     ]
    }
   ],
   "source": [
    "sess = tf.Session()\n",
    "sess.run(init)\n",
    "\n",
    "for epoch in range(training_epochs):\n",
    "\n",
    "    _, err = sess.run([train_op, loss], feed_dict={\n",
    "        X: grid\n",
    "    })\n",
    "\n",
    "    train_errors += [err]\n",
    "    \n",
    "    if np.log10(train_errors[-1]) < -10:\n",
    "        break\n",
    "    \n",
    "    if epoch % display_step == 0:\n",
    "        print(\"Epoch:\", '%04d' % (epoch + 1), \"cost={:.9f}\".format(np.log10(train_errors[-1])))\n",
    "print(\"Optimization Finished!\")\n",
    "\n",
    "y, err = sess.run([model_output, loss], feed_dict={\n",
    "    X: np.arange(0, 1 + 0.1, 0.2)[:, None]\n",
    "})"
   ]
  },
  {
   "cell_type": "code",
   "execution_count": 21,
   "metadata": {},
   "outputs": [],
   "source": [
    "y, err = sess.run([model_output, loss], feed_dict={\n",
    "    X: np.arange(0, 1, 0.0001)[:, None]\n",
    "})"
   ]
  },
  {
   "cell_type": "code",
   "execution_count": 25,
   "metadata": {},
   "outputs": [
    {
     "data": {
      "text/plain": [
       "0.07565403447034824"
      ]
     },
     "execution_count": 25,
     "metadata": {},
     "output_type": "execute_result"
    }
   ],
   "source": [
    "np.abs(np.sin(np.arange(0, 1, 0.0001)[:, None]) - y).max()"
   ]
  },
  {
   "cell_type": "code",
   "execution_count": 26,
   "metadata": {},
   "outputs": [
    {
     "data": {
      "text/plain": [
       "0.8414169503700448"
      ]
     },
     "execution_count": 26,
     "metadata": {},
     "output_type": "execute_result"
    }
   ],
   "source": [
    "np.sin(np.arange(0, 1, 0.0001)[:, None]).max()"
   ]
  },
  {
   "cell_type": "code",
   "execution_count": null,
   "metadata": {},
   "outputs": [],
   "source": []
  }
 ],
 "metadata": {
  "kernelspec": {
   "display_name": "Python 3",
   "language": "python",
   "name": "python3"
  },
  "language_info": {
   "codemirror_mode": {
    "name": "ipython",
    "version": 3
   },
   "file_extension": ".py",
   "mimetype": "text/x-python",
   "name": "python",
   "nbconvert_exporter": "python",
   "pygments_lexer": "ipython3",
   "version": "3.7.4"
  }
 },
 "nbformat": 4,
 "nbformat_minor": 4
}
