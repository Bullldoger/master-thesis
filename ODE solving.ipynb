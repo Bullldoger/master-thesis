{
 "cells": [
  {
   "cell_type": "code",
   "execution_count": 239,
   "metadata": {},
   "outputs": [],
   "source": [
    "import torch\n",
    "import torch.nn as nn\n",
    "import torch.optim as optim\n",
    "\n",
    "import numpy as np\n",
    "import matplotlib.pyplot as plt\n",
    "\n",
    "from IPython.display import clear_output"
   ]
  },
  {
   "cell_type": "markdown",
   "metadata": {},
   "source": [
    "# Example 1"
   ]
  },
  {
   "cell_type": "markdown",
   "metadata": {},
   "source": [
    "$$\n",
    "y = x^2 + x + exp(x) + cos(x) * sin(x) \\\\\n",
    "\\dfrac{d}{dx} y = 2 x + 1 + exp(x) + cos(2x) \\\\\n",
    "y \\dfrac{d}{dx} y = \\left ( x^2 + x + exp(x) + cos(x) \\right ) \\left ( 2 x + 1 + exp(x) + cos(2x) \\right ) \\\\\n",
    "y(0) = 1\n",
    "$$"
   ]
  },
  {
   "cell_type": "code",
   "execution_count": 249,
   "metadata": {},
   "outputs": [],
   "source": [
    "net = nn.Sequential(nn.Linear(1, 2), nn.Sigmoid(), \n",
    "                    nn.Linear(2, 1))\n",
    "opt = optim.Adam(net.parameters(), lr=0.01)\n",
    "\n",
    "dx     = 0.1\n",
    "grid   = torch.arange(0, 1, dx)[:, None]\n",
    "dx     = torch.tensor([dx])\n",
    "errors = list()\n",
    "epochs = 5000\n",
    "plot   = True"
   ]
  },
  {
   "cell_type": "code",
   "execution_count": 250,
   "metadata": {},
   "outputs": [
    {
     "data": {
      "image/png": "[encoded data removed]",
      "text/plain": [
       "<Figure size 432x288 with 1 Axes>"
      ]
     },
     "metadata": {
      "needs_background": "light"
     },
     "output_type": "display_data"
    },
    {
     "ename": "KeyboardInterrupt",
     "evalue": "",
     "output_type": "error",
     "traceback": [
      "\u001b[0;31m---------------------------------------------------------------------------\u001b[0m",
      "\u001b[0;31mKeyboardInterrupt\u001b[0m                         Traceback (most recent call last)",
      "\u001b[0;32m<ipython-input-250-15356fafe760>\u001b[0m in \u001b[0;36m<module>\u001b[0;34m\u001b[0m\n\u001b[1;32m     11\u001b[0m     \u001b[0mf\u001b[0m \u001b[0;34m=\u001b[0m \u001b[0;34m(\u001b[0m\u001b[0;36m2\u001b[0m \u001b[0;34m*\u001b[0m \u001b[0mx\u001b[0m \u001b[0;34m+\u001b[0m \u001b[0;36m1\u001b[0m \u001b[0;34m+\u001b[0m \u001b[0mtorch\u001b[0m\u001b[0;34m.\u001b[0m\u001b[0mexp\u001b[0m\u001b[0;34m(\u001b[0m\u001b[0mx\u001b[0m\u001b[0;34m)\u001b[0m \u001b[0;34m+\u001b[0m \u001b[0mtorch\u001b[0m\u001b[0;34m.\u001b[0m\u001b[0mcos\u001b[0m\u001b[0;34m(\u001b[0m\u001b[0;36m2\u001b[0m \u001b[0;34m*\u001b[0m \u001b[0mx\u001b[0m\u001b[0;34m)\u001b[0m\u001b[0;34m)\u001b[0m \u001b[0;34m*\u001b[0m \u001b[0;34m(\u001b[0m\u001b[0mx\u001b[0m \u001b[0;34m**\u001b[0m \u001b[0;36m2\u001b[0m \u001b[0;34m+\u001b[0m \u001b[0mx\u001b[0m \u001b[0;34m+\u001b[0m \u001b[0mtorch\u001b[0m\u001b[0;34m.\u001b[0m\u001b[0mexp\u001b[0m\u001b[0;34m(\u001b[0m\u001b[0mx\u001b[0m\u001b[0;34m)\u001b[0m \u001b[0;34m+\u001b[0m \u001b[0mtorch\u001b[0m\u001b[0;34m.\u001b[0m\u001b[0mcos\u001b[0m\u001b[0;34m(\u001b[0m\u001b[0mx\u001b[0m\u001b[0;34m)\u001b[0m \u001b[0;34m*\u001b[0m \u001b[0mtorch\u001b[0m\u001b[0;34m.\u001b[0m\u001b[0msin\u001b[0m\u001b[0;34m(\u001b[0m\u001b[0mx\u001b[0m\u001b[0;34m)\u001b[0m\u001b[0;34m)\u001b[0m\u001b[0;34m\u001b[0m\u001b[0;34m\u001b[0m\u001b[0m\n\u001b[1;32m     12\u001b[0m     \u001b[0mloss\u001b[0m \u001b[0;34m=\u001b[0m  \u001b[0;34m(\u001b[0m\u001b[0my\u001b[0m\u001b[0;34m[\u001b[0m\u001b[0;36m1\u001b[0m\u001b[0;34m:\u001b[0m\u001b[0;34m]\u001b[0m \u001b[0;34m*\u001b[0m \u001b[0mdy_dx\u001b[0m\u001b[0;34m[\u001b[0m\u001b[0;36m1\u001b[0m\u001b[0;34m:\u001b[0m\u001b[0;34m]\u001b[0m \u001b[0;34m-\u001b[0m \u001b[0mf\u001b[0m\u001b[0;34m[\u001b[0m\u001b[0;36m1\u001b[0m\u001b[0;34m:\u001b[0m\u001b[0;34m]\u001b[0m\u001b[0;34m)\u001b[0m \u001b[0;34m**\u001b[0m \u001b[0;36m2\u001b[0m\u001b[0;34m\u001b[0m\u001b[0;34m\u001b[0m\u001b[0m\n\u001b[0;32m---> 13\u001b[0;31m     \u001b[0mloss\u001b[0m \u001b[0;34m+=\u001b[0m \u001b[0;34m(\u001b[0m\u001b[0mnet\u001b[0m\u001b[0;34m(\u001b[0m\u001b[0mgrid\u001b[0m\u001b[0;34m[\u001b[0m\u001b[0;36m0\u001b[0m\u001b[0;34m]\u001b[0m\u001b[0;34m)\u001b[0m \u001b[0;34m-\u001b[0m \u001b[0;36m1\u001b[0m\u001b[0;34m)\u001b[0m \u001b[0;34m**\u001b[0m \u001b[0;36m2\u001b[0m\u001b[0;34m\u001b[0m\u001b[0;34m\u001b[0m\u001b[0m\n\u001b[0m\u001b[1;32m     14\u001b[0m \u001b[0;34m\u001b[0m\u001b[0m\n\u001b[1;32m     15\u001b[0m     \u001b[0mloss\u001b[0m \u001b[0;34m=\u001b[0m \u001b[0mloss\u001b[0m\u001b[0;34m.\u001b[0m\u001b[0mmean\u001b[0m\u001b[0;34m(\u001b[0m\u001b[0;34m)\u001b[0m\u001b[0;34m\u001b[0m\u001b[0;34m\u001b[0m\u001b[0m\n",
      "\u001b[0;31mKeyboardInterrupt\u001b[0m: "
     ]
    }
   ],
   "source": [
    "for epoch in range(epochs):\n",
    "    \n",
    "    opt.zero_grad()\n",
    "    loss = 0\n",
    "    \n",
    "    x_grid = grid\n",
    "    x_prev, x, x_next = x_grid - dx, x_grid, x_grid + dx\n",
    "    y_prev, y, y_next = net(x_prev), net(x), net(x_next)\n",
    "    \n",
    "    dy_dx = (y_next - y_prev) / (2 * dx)\n",
    "    f = (2 * x + 1 + torch.exp(x) + torch.cos(2 * x)) * (x ** 2 + x + torch.exp(x) + torch.cos(x) * torch.sin(x))\n",
    "    loss =  (y[1:] * dy_dx[1:] - f[1:]) ** 2\n",
    "    loss += (net(grid[0]) - 1) ** 2\n",
    "    \n",
    "    loss = loss.mean()\n",
    "    \n",
    "    loss.backward()\n",
    "    opt.step()\n",
    "    \n",
    "    errors += [loss.item()]\n",
    "    \n",
    "    if plot and epoch % 1000 == 0 and epoch > 0:\n",
    "        \n",
    "        clear_output()\n",
    "        X = x.detach().numpy()\n",
    "        Y = y.detach().numpy()\n",
    "        \n",
    "        plt.plot(X, Y, label='NN solution')\n",
    "        plt.plot(X, X ** 2 + X  + np.exp(X) + np.cos(X) * np.sin(X), label='Analytical solution')\n",
    "        \n",
    "        plt.legend()\n",
    "        plt.grid()\n",
    "        \n",
    "        plt.show()"
   ]
  },
  {
   "cell_type": "markdown",
   "metadata": {},
   "source": [
    "# Example 2"
   ]
  },
  {
   "cell_type": "markdown",
   "metadata": {},
   "source": [
    "$$\n",
    "u = x + y^2 + exp(x) + cos(2 y) \\\\\n",
    "\\dfrac{\\partial}{\\partial x} u = 1 + exp(x) \\\\\n",
    "\\dfrac{\\partial}{\\partial y} u = 2 y - 2 sin(2 y) \\\\\n",
    "u(0, y) = y^2 + cos(2 y) + 1 \\\\\n",
    "u(1, y) = 1 + y^2 + cos(2 y) + e \\\\\n",
    "u(x, 0) = x + exp(x) + 1 \\\\\n",
    "u(x, 1) = x + 1 + exp(x) + cos(2) \\\\\n",
    "\\dfrac{\\partial}{\\partial y} u + \\dfrac{\\partial}{\\partial x} u = 1 + exp(x) + 2 y - 2 sin(2 y)\n",
    "$$"
   ]
  },
  {
   "cell_type": "code",
   "execution_count": 513,
   "metadata": {},
   "outputs": [],
   "source": [
    "net = nn.Sequential(nn.Linear(2, 3), nn.Sigmoid(),\n",
    "                    nn.Linear(3, 3), nn.Sigmoid(),\n",
    "                    nn.Linear(3, 1))\n",
    "opt = optim.Adadelta(net.parameters(), lr=0.05)\n",
    "\n",
    "dx, dy = 0.1, 0.1\n",
    "errors = list()\n",
    "epochs = 2500\n",
    "plot   = True"
   ]
  },
  {
   "cell_type": "code",
   "execution_count": 514,
   "metadata": {},
   "outputs": [],
   "source": [
    "x, y = torch.arange(0, 1 + dx / 2, dx), torch.arange(0, 1 + dy / 2, dy)\n",
    "X, Y = torch.meshgrid(x, y)"
   ]
  },
  {
   "cell_type": "code",
   "execution_count": 515,
   "metadata": {},
   "outputs": [],
   "source": [
    "x_bound_0 = torch.stack((X[0].flatten(), Y[0].flatten())).transpose(1, 0)\n",
    "x_bound_1 = torch.stack((X[-1].flatten(), Y[0].flatten())).transpose(1, 0)\n",
    "y_bound_0 = torch.stack((X[:, 0].flatten(), Y[:, 0].flatten())).transpose(1, 0)\n",
    "y_bound_1 = torch.stack((X[:, 0].flatten(), Y[:, -1].flatten())).transpose(1, 0)\n",
    "inner_grd = torch.stack((X[1:-1, 1:-1].flatten(), Y[1:-1, 1:-1].flatten())).transpose(1, 0)"
   ]
  },
  {
   "cell_type": "code",
   "execution_count": 518,
   "metadata": {},
   "outputs": [
    {
     "data": {
      "image/png": "[encoded data removed]",
      "text/plain": [
       "<Figure size 432x288 with 1 Axes>"
      ]
     },
     "metadata": {
      "needs_background": "light"
     },
     "output_type": "display_data"
    }
   ],
   "source": [
    "for epoch in range(epochs):\n",
    "    \n",
    "    opt.zero_grad()\n",
    "    loss = 0\n",
    "    DX, DY = torch.tensor([dx, 0]), torch.tensor([0, dy])\n",
    "    \n",
    "    u_x_bound_0, u_x_bound_1, u_y_bound_0, u_y_bound_1 = net(x_bound_0), net(x_bound_1), net(y_bound_0), net(y_bound_1)\n",
    "    \n",
    "    loss += ((u_x_bound_0 - (x_bound_0[:, 1] ** 2 + torch.cos(2 * x_bound_0[:, 1]) + 1)) ** 2).sum()\n",
    "    loss += ((u_x_bound_1 - (1 + x_bound_0[:, 1] ** 2 + torch.cos(2 * x_bound_0[:, 1]) + torch.exp(torch.tensor([1.0])))) ** 2).sum()\n",
    "    loss += ((u_y_bound_0 - (y_bound_0[:, 0] + torch.exp(y_bound_0[:, 0]) + torch.tensor([1.0]))) ** 2).sum()\n",
    "    loss += ((u_y_bound_1 - (y_bound_1[:, 0] + torch.exp(y_bound_1[:, 0]) + torch.tensor([1.0]) + torch.cos(torch.tensor([2.0])))) ** 2).sum()\n",
    "    \n",
    "    inner_x_prev, inner_x_cur, inner_x_next = inner_grd - DX, inner_grd, inner_grd + DX\n",
    "    inner_y_prev, inner_y_cur, inner_y_next = inner_grd - DY, inner_grd, inner_grd + DY\n",
    "    \n",
    "    u_inner_x_prev, u_inner_x_cur, u_inner_x_next = net(inner_x_prev), net(inner_x_cur), net(inner_x_next)\n",
    "    u_inner_y_prev, u_inner_y_cur, u_inner_y_next = net(inner_y_prev), net(inner_y_cur), net(inner_y_next)\n",
    "    \n",
    "    du_dx = (u_inner_x_next - 2 * u_inner_x_cur + u_inner_x_prev) / (dx ** 2)\n",
    "    du_dy = (u_inner_y_next - 2 * u_inner_y_cur + u_inner_y_prev) / (dy ** 2)\n",
    "    \n",
    "    loss += ((du_dx + du_dy - (2 + torch.exp(inner_x_cur[:, 0]) - 4 * torch.sin(2 * inner_x_cur[:, 1]))) ** 2).sum()\n",
    "    \n",
    "    loss.backward()\n",
    "    opt.step()\n",
    "    \n",
    "    errors += [loss.item()]\n",
    "    \n",
    "    if plot and epoch % 100 == 0 and epoch > 0:\n",
    "        \n",
    "        clear_output()\n",
    "        \n",
    "        plt.plot(np.log(errors), label='log(error)')\n",
    "        \n",
    "        plt.legend()\n",
    "        plt.grid()\n",
    "        \n",
    "        plt.show()"
   ]
  },
  {
   "cell_type": "code",
   "execution_count": 519,
   "metadata": {},
   "outputs": [
    {
     "data": {
      "text/plain": [
       "tensor([[0.0000, 0.0000],\n",
       "        [0.0000, 0.1000],\n",
       "        [0.0000, 0.2000],\n",
       "        [0.0000, 0.3000],\n",
       "        [0.0000, 0.4000],\n",
       "        [0.0000, 0.5000],\n",
       "        [0.0000, 0.6000],\n",
       "        [0.0000, 0.7000],\n",
       "        [0.0000, 0.8000],\n",
       "        [0.0000, 0.9000],\n",
       "        [0.0000, 1.0000]])"
      ]
     },
     "execution_count": 519,
     "metadata": {},
     "output_type": "execute_result"
    }
   ],
   "source": [
    "x_bound_0"
   ]
  },
  {
   "cell_type": "code",
   "execution_count": 520,
   "metadata": {},
   "outputs": [
    {
     "data": {
      "text/plain": [
       "tensor([[2.8150],\n",
       "        [2.8121],\n",
       "        [2.8093],\n",
       "        [2.8066],\n",
       "        [2.8041],\n",
       "        [2.8016],\n",
       "        [2.7993],\n",
       "        [2.7971],\n",
       "        [2.7949],\n",
       "        [2.7929],\n",
       "        [2.7910]], grad_fn=<AddmmBackward>)"
      ]
     },
     "execution_count": 520,
     "metadata": {},
     "output_type": "execute_result"
    }
   ],
   "source": [
    "u_x_bound_0"
   ]
  },
  {
   "cell_type": "code",
   "execution_count": 521,
   "metadata": {},
   "outputs": [
    {
     "data": {
      "text/plain": [
       "tensor([2.0000, 1.9901, 1.9611, 1.9153, 1.8567, 1.7903, 1.7224, 1.6600, 1.6108,\n",
       "        1.5828, 1.5839])"
      ]
     },
     "execution_count": 521,
     "metadata": {},
     "output_type": "execute_result"
    }
   ],
   "source": [
    "x_bound_0[:, 1] ** 2 + torch.cos(2 * x_bound_0[:, 1]) + 1"
   ]
  },
  {
   "cell_type": "code",
   "execution_count": 481,
   "metadata": {},
   "outputs": [
    {
     "data": {
      "text/plain": [
       "tensor([ 1.0000,  0.9801,  0.9211,  0.8253,  0.6967,  0.5403,  0.3624,  0.1700,\n",
       "        -0.0292, -0.2272, -0.4161])"
      ]
     },
     "execution_count": 481,
     "metadata": {},
     "output_type": "execute_result"
    }
   ],
   "source": [
    "torch.cos(2 * x_bound_0[:, 1])"
   ]
  }
 ],
 "metadata": {
  "kernelspec": {
   "display_name": "Python 3",
   "language": "python",
   "name": "python3"
  },
  "language_info": {
   "codemirror_mode": {
    "name": "ipython",
    "version": 3
   },
   "file_extension": ".py",
   "mimetype": "text/x-python",
   "name": "python",
   "nbconvert_exporter": "python",
   "pygments_lexer": "ipython3",
   "version": "3.7.4"
  }
 },
 "nbformat": 4,
 "nbformat_minor": 4
}
