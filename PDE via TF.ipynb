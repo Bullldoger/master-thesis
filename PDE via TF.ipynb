{
 "cells": [
  {
   "cell_type": "code",
   "execution_count": 1,
   "metadata": {},
   "outputs": [],
   "source": [
    "import tensorflow as tf\n",
    "from tensorflow.examples.tutorials.mnist import input_data\n",
    "import numpy as np\n",
    "\n",
    "\n",
    "import tqdm"
   ]
  },
  {
   "cell_type": "code",
   "execution_count": 2,
   "metadata": {},
   "outputs": [],
   "source": [
    "learning_rate = 0.01\n",
    "training_epochs = 10001\n",
    "display_step = 500\n",
    "\n",
    "d = 0.1"
   ]
  },
  {
   "cell_type": "code",
   "execution_count": 3,
   "metadata": {},
   "outputs": [],
   "source": [
    "x, y = np.arange(0, 1 + d / 2, d)[:, None], np.arange(0, 1 + d / 2, d)[:, None]\n",
    "X, Y = np.meshgrid(x, y)\n",
    "\n",
    "grid = np.concatenate((Y.reshape(-1, 1), X.reshape(-1, 1)), axis=1)\n",
    "n = x.shape[0]"
   ]
  },
  {
   "cell_type": "code",
   "execution_count": 4,
   "metadata": {},
   "outputs": [],
   "source": [
    "x_0 = grid[:n]\n",
    "x_1 = grid[-n:]\n",
    "y_0 = grid[::n]\n",
    "y_1 = grid[n - 1::n]"
   ]
  },
  {
   "cell_type": "code",
   "execution_count": 5,
   "metadata": {},
   "outputs": [],
   "source": [
    "n_hidden_1 = 64\n",
    "n_hidden_2 = 64\n",
    "n_hidden_3 = 64\n",
    "n_input = 2\n",
    "n_classes = 2"
   ]
  },
  {
   "cell_type": "code",
   "execution_count": 8,
   "metadata": {},
   "outputs": [],
   "source": [
    "X = tf.placeholder(\"double\", [None, n_input])\n",
    "\n",
    "X_0 = tf.placeholder(\"double\", [None, n_input])\n",
    "X_1 = tf.placeholder(\"double\", [None, n_input])\n",
    "Y_0 = tf.placeholder(\"double\", [None, n_input])\n",
    "Y_1 = tf.placeholder(\"double\", [None, n_input])\n",
    "\n",
    "weights = {\n",
    "    'h1': tf.Variable(tf.random_normal([n_input, n_hidden_1], dtype=tf.double)),\n",
    "    'h2': tf.Variable(tf.random_normal([n_hidden_1, n_hidden_2], dtype=tf.double)),\n",
    "    'h3': tf.Variable(tf.random_normal([n_hidden_2, n_hidden_3], dtype=tf.double)),\n",
    "    'h4': tf.Variable(tf.random_normal([n_hidden_3, n_hidden_3], dtype=tf.double)),\n",
    "    'h5': tf.Variable(tf.random_normal([n_hidden_3, n_hidden_3], dtype=tf.double)),\n",
    "    'out': tf.Variable(tf.random_normal([n_hidden_3, n_classes], dtype=tf.double))\n",
    "}\n",
    "biases = {\n",
    "    'b1': tf.Variable(tf.random_normal([n_hidden_1], dtype=tf.double)),\n",
    "    'b2': tf.Variable(tf.random_normal([n_hidden_2], dtype=tf.double)),\n",
    "    'b3': tf.Variable(tf.random_normal([n_hidden_3], dtype=tf.double)),\n",
    "    'b4': tf.Variable(tf.random_normal([n_hidden_3], dtype=tf.double)),\n",
    "    'b5': tf.Variable(tf.random_normal([n_hidden_3], dtype=tf.double)),\n",
    "    'out': tf.Variable(tf.random_normal([n_classes], dtype=tf.double))\n",
    "}"
   ]
  },
  {
   "cell_type": "code",
   "execution_count": 9,
   "metadata": {},
   "outputs": [],
   "source": [
    "def multilayer_perceptron(x):\n",
    "    layer_1   = tf.nn.tanh(tf.add(tf.matmul(x, weights['h1']), biases['b1']))\n",
    "    layer_2   = tf.nn.tanh(tf.add(tf.matmul(layer_1, weights['h2']), biases['b2']))\n",
    "    layer_3   = tf.nn.tanh(tf.add(tf.matmul(layer_2, weights['h3']), biases['b3']))\n",
    "    layer_4   = tf.nn.tanh(tf.add(tf.matmul(layer_3, weights['h4']), biases['b4']))\n",
    "    out_layer = tf.matmul(layer_4, weights['out']) + biases['out']\n",
    "    return out_layer"
   ]
  },
  {
   "cell_type": "code",
   "execution_count": 10,
   "metadata": {},
   "outputs": [],
   "source": [
    "U = multilayer_perceptron(X)\n",
    "\n",
    "U_X_0 = multilayer_perceptron(X_0)\n",
    "U_X_1 = multilayer_perceptron(X_1)\n",
    "U_Y_0 = multilayer_perceptron(Y_0)\n",
    "U_Y_1 = multilayer_perceptron(Y_1)"
   ]
  },
  {
   "cell_type": "code",
   "execution_count": 11,
   "metadata": {},
   "outputs": [],
   "source": [
    "(du_dx, du_dy) = tf.split(tf.gradients(U[:, 0][:, None], X)[0], [1, 1], 1)\n",
    "(dv_dx, dv_dy) = tf.split(tf.gradients(U[:, 1][:, None], X)[0], [1, 1], 1)\n",
    "\n",
    "(d2u_dx2, d2u_dydx) = tf.split(tf.gradients(du_dx, X)[0],  [1, 1], 1)\n",
    "(d2u_dxdy, d2u_dy2) = tf.split(tf.gradients(du_dy, X)[0],  [1, 1], 1)\n",
    "\n",
    "(d2v_dx2,  d2v_dydx) = tf.split(tf.gradients(dv_dx, X)[0], [1, 1], 1)\n",
    "(d2v_dxdy, d2v_dy2)  = tf.split(tf.gradients(dv_dy, X)[0], [1, 1], 1)"
   ]
  },
  {
   "cell_type": "code",
   "execution_count": 12,
   "metadata": {},
   "outputs": [],
   "source": [
    "E, nu = 1.0, 0.25\n",
    "mu    = E / (2 + 2 * nu)\n",
    "lamb  = (E * nu) / ((1 + nu) * (1 - 2 * nu))"
   ]
  },
  {
   "cell_type": "code",
   "execution_count": 13,
   "metadata": {},
   "outputs": [],
   "source": [
    "eq1 = tf.reduce_mean(tf.pow(du_dx + du_dy - 2, 2))\n",
    "eq2 = tf.reduce_mean(tf.pow(du_dy + du_dx - 0, 2))\n",
    "\n",
    "loss_U = eq1 + eq2\n",
    "\n",
    "loss_X_0 = tf.norm(U_X_0[:, 0] - X_0[:, 0] - X_0[:, 1]) + tf.norm(U_X_0[:, 0] - X_0[:, 0] + X_0[:, 1])\n",
    "loss_X_1 = tf.norm(U_X_1[:, 0] - X_1[:, 0] - X_1[:, 1]) + tf.norm(U_X_1[:, 0] - X_1[:, 0] + X_1[:, 1])\n",
    "loss_Y_0 = tf.norm(U_Y_0[:, 0] - Y_0[:, 0] - Y_0[:, 1]) + tf.norm(U_Y_0[:, 0] - Y_0[:, 0] + Y_0[:, 1])\n",
    "loss_Y_1 = tf.norm(U_Y_1[:, 0] - Y_1[:, 0] - Y_1[:, 1]) + tf.norm(U_Y_1[:, 0] - Y_1[:, 0] + Y_1[:, 1])\n",
    "\n",
    "loss = loss_U + loss_X_0 + loss_X_1 + loss_Y_0 + loss_Y_1"
   ]
  },
  {
   "cell_type": "code",
   "execution_count": 14,
   "metadata": {},
   "outputs": [
    {
     "name": "stdout",
     "output_type": "stream",
     "text": [
      "WARNING:tensorflow:From //anaconda3/envs/py37/lib/python3.7/site-packages/tensorflow_core/python/ops/math_grad.py:1375: where (from tensorflow.python.ops.array_ops) is deprecated and will be removed in a future version.\n",
      "Instructions for updating:\n",
      "Use tf.where in 2.0, which has the same broadcast rule as np.where\n"
     ]
    }
   ],
   "source": [
    "optimizer = tf.train.AdamOptimizer(learning_rate=learning_rate)\n",
    "train_op = optimizer.minimize(loss)\n",
    "init = tf.global_variables_initializer()\n",
    "train_errors = []\n",
    "y, err = None, None"
   ]
  },
  {
   "cell_type": "code",
   "execution_count": 15,
   "metadata": {},
   "outputs": [
    {
     "name": "stdout",
     "output_type": "stream",
     "text": [
      "Epoch: 0001 cost=4.159348274\n",
      "Epoch: 0501 cost=1.356184915\n",
      "Epoch: 1001 cost=1.236677250\n",
      "Epoch: 1501 cost=1.225158611\n",
      "Epoch: 2001 cost=1.221860750\n",
      "Epoch: 2501 cost=1.220541689\n",
      "Epoch: 3001 cost=1.221093213\n",
      "Epoch: 3501 cost=1.221518106\n",
      "Epoch: 4001 cost=1.221956014\n",
      "Epoch: 4501 cost=1.222273669\n",
      "Epoch: 5001 cost=1.222407340\n",
      "Epoch: 5501 cost=1.223391629\n",
      "Epoch: 6001 cost=1.223436112\n",
      "Epoch: 6501 cost=1.225045543\n",
      "Epoch: 7001 cost=1.224066164\n",
      "Epoch: 7501 cost=1.224313296\n",
      "Epoch: 8001 cost=1.223793749\n",
      "Epoch: 8501 cost=1.224444862\n",
      "Epoch: 9001 cost=1.224458192\n",
      "Epoch: 9501 cost=1.224914359\n",
      "Epoch: 10001 cost=1.224437156\n",
      "Optimization Finished!\n"
     ]
    }
   ],
   "source": [
    "sess = tf.Session()\n",
    "sess.run(init)\n",
    "\n",
    "for epoch in range(training_epochs):\n",
    "\n",
    "    _, err = sess.run([train_op, loss], feed_dict={\n",
    "        X: grid,\n",
    "        X_0: x_0,\n",
    "        X_1: x_1,\n",
    "        Y_0: y_0,\n",
    "        Y_1: y_1,\n",
    "    })\n",
    "\n",
    "    train_errors += [err]\n",
    "    \n",
    "    if np.log10(train_errors[-1]) < -11.0:\n",
    "        break\n",
    "    \n",
    "    if epoch % display_step == 0:\n",
    "        print(\"Epoch:\", '%04d' % (epoch + 1), \"cost={:.9f}\".format(np.log10(train_errors[-1])))\n",
    "print(\"Optimization Finished!\")"
   ]
  },
  {
   "cell_type": "code",
   "execution_count": null,
   "metadata": {},
   "outputs": [],
   "source": [
    "[u, err, _du_dx, _du_dy] = sess.run([U, loss, du_dx, du_dy], feed_dict={\n",
    "    X: grid,\n",
    "    X_0: x_0,\n",
    "    X_1: x_1,\n",
    "    Y_0: y_0,\n",
    "    Y_1: y_1\n",
    "})"
   ]
  },
  {
   "cell_type": "code",
   "execution_count": 15,
   "metadata": {},
   "outputs": [],
   "source": [
    "u_x, u_y = u[:, 0][:, None], u[:, 1][:, None]"
   ]
  },
  {
   "cell_type": "code",
   "execution_count": 16,
   "metadata": {},
   "outputs": [],
   "source": [
    "import matplotlib.pyplot as plt"
   ]
  },
  {
   "cell_type": "code",
   "execution_count": 17,
   "metadata": {},
   "outputs": [],
   "source": [
    "x, y = np.arange(0, 1 + d / 2, d)[:, None], np.arange(0, 1 + d / 2, d)[:, None]\n",
    "X, Y = np.meshgrid(x, y)\n",
    "\n",
    "grid = np.concatenate((Y.reshape(-1, 1), X.reshape(-1, 1)), axis=1)\n",
    "n = x.shape[0]"
   ]
  },
  {
   "cell_type": "code",
   "execution_count": 19,
   "metadata": {},
   "outputs": [
    {
     "data": {
      "image/png": "[encoded data removed]",
      "text/plain": [
       "<Figure size 432x288 with 2 Axes>"
      ]
     },
     "metadata": {
      "needs_background": "light"
     },
     "output_type": "display_data"
    }
   ],
   "source": [
    "plt.contourf(X, Y, u_x.reshape(X.shape), 10, cmap='inferno')\n",
    "plt.colorbar()\n",
    "plt.show()"
   ]
  },
  {
   "cell_type": "code",
   "execution_count": 21,
   "metadata": {},
   "outputs": [
    {
     "data": {
      "image/png": "[encoded data removed]",
      "text/plain": [
       "<Figure size 432x288 with 2 Axes>"
      ]
     },
     "metadata": {
      "needs_background": "light"
     },
     "output_type": "display_data"
    }
   ],
   "source": [
    "plt.contourf(X, Y, u_y.reshape(X.shape), 10, cmap='inferno')\n",
    "plt.colorbar()\n",
    "plt.show()"
   ]
  },
  {
   "cell_type": "code",
   "execution_count": 16,
   "metadata": {},
   "outputs": [
    {
     "ename": "ModuleNotFoundError",
     "evalue": "No module named 'deepxde'",
     "output_type": "error",
     "traceback": [
      "\u001b[0;31m---------------------------------------------------------------------------\u001b[0m",
      "\u001b[0;31mModuleNotFoundError\u001b[0m                       Traceback (most recent call last)",
      "\u001b[0;32m<ipython-input-16-bf88d21aa2df>\u001b[0m in \u001b[0;36m<module>\u001b[0;34m\u001b[0m\n\u001b[1;32m      6\u001b[0m \u001b[0;32mimport\u001b[0m \u001b[0mtensorflow\u001b[0m \u001b[0;32mas\u001b[0m \u001b[0mtf\u001b[0m\u001b[0;34m\u001b[0m\u001b[0;34m\u001b[0m\u001b[0m\n\u001b[1;32m      7\u001b[0m \u001b[0;34m\u001b[0m\u001b[0m\n\u001b[0;32m----> 8\u001b[0;31m \u001b[0;32mimport\u001b[0m \u001b[0mdeepxde\u001b[0m \u001b[0;32mas\u001b[0m \u001b[0mdde\u001b[0m\u001b[0;34m\u001b[0m\u001b[0;34m\u001b[0m\u001b[0m\n\u001b[0m",
      "\u001b[0;31mModuleNotFoundError\u001b[0m: No module named 'deepxde'"
     ]
    }
   ],
   "source": [
    "from __future__ import absolute_import\n",
    "from __future__ import division\n",
    "from __future__ import print_function\n",
    "\n",
    "import numpy as np\n",
    "import tensorflow as tf\n",
    "\n",
    "import deepxde as dde"
   ]
  },
  {
   "cell_type": "code",
   "execution_count": null,
   "metadata": {},
   "outputs": [],
   "source": []
  }
 ],
 "metadata": {
  "kernelspec": {
   "display_name": "Python 3",
   "language": "python",
   "name": "python3"
  },
  "language_info": {
   "codemirror_mode": {
    "name": "ipython",
    "version": 3
   },
   "file_extension": ".py",
   "mimetype": "text/x-python",
   "name": "python",
   "nbconvert_exporter": "python",
   "pygments_lexer": "ipython3",
   "version": "3.7.4"
  }
 },
 "nbformat": 4,
 "nbformat_minor": 4
}
