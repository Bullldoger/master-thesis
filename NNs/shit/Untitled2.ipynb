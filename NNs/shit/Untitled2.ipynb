{
 "cells": [
  {
   "cell_type": "code",
   "execution_count": 9,
   "metadata": {},
   "outputs": [],
   "source": [
    "import vk_api\n",
    "\n",
    "vk_session = vk_api.VkApi('+79998638431', 'sa8oon1o96')\n",
    "vk_session.auth()\n",
    "\n",
    "vk = vk_session.get_api()"
   ]
  },
  {
   "cell_type": "code",
   "execution_count": 13,
   "metadata": {},
   "outputs": [
    {
     "data": {
      "text/plain": [
       "[{'id': 199917536,\n",
       "  'first_name': 'Ксюша',\n",
       "  'last_name': 'Басова',\n",
       "  'is_closed': False,\n",
       "  'can_access_closed': True,\n",
       "  'online': 0}]"
      ]
     },
     "execution_count": 13,
     "metadata": {},
     "output_type": "execute_result"
    }
   ],
   "source": [
    "vk.users.get(user_ids=['199917536'], fields=['online'])"
   ]
  },
  {
   "cell_type": "code",
   "execution_count": 19,
   "metadata": {},
   "outputs": [
    {
     "data": {
      "text/plain": [
       "{'users': {'count': 0, 'items': []},\n",
       " 'groups': {'count': 18,\n",
       "  'items': [133084007,\n",
       "   20629724,\n",
       "   101965347,\n",
       "   111587102,\n",
       "   122560283,\n",
       "   76746437,\n",
       "   74404187,\n",
       "   47597391,\n",
       "   46638176,\n",
       "   58157078,\n",
       "   78273068,\n",
       "   160064457,\n",
       "   56157544,\n",
       "   54530371,\n",
       "   128851768,\n",
       "   135242465,\n",
       "   149653987,\n",
       "   169052234]}}"
      ]
     },
     "execution_count": 19,
     "metadata": {},
     "output_type": "execute_result"
    }
   ],
   "source": [
    "vk.users.getSubscriptions(used_id='199917536', offset=2)"
   ]
  },
  {
   "cell_type": "code",
   "execution_count": null,
   "metadata": {},
   "outputs": [],
   "source": []
  }
 ],
 "metadata": {
  "kernelspec": {
   "display_name": "Python 3",
   "language": "python",
   "name": "python3"
  },
  "language_info": {
   "codemirror_mode": {
    "name": "ipython",
    "version": 3
   },
   "file_extension": ".py",
   "mimetype": "text/x-python",
   "name": "python",
   "nbconvert_exporter": "python",
   "pygments_lexer": "ipython3",
   "version": "3.7.4"
  }
 },
 "nbformat": 4,
 "nbformat_minor": 2
}
