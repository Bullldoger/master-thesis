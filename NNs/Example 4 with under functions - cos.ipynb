{
 "cells": [
  {
   "cell_type": "code",
   "execution_count": 21,
   "metadata": {
    "scrolled": true
   },
   "outputs": [
    {
     "name": "stdout",
     "output_type": "stream",
     "text": [
      "The autoreload extension is already loaded. To reload it, use:\n",
      "  %reload_ext autoreload\n"
     ]
    }
   ],
   "source": [
    "import pden\n",
    "import pden.Net\n",
    "import pden.Operations\n",
    "import pden.PDENet\n",
    "\n",
    "import tensorflow as tf\n",
    "\n",
    "import numpy as np\n",
    "import matplotlib\n",
    "from matplotlib import pyplot as plt\n",
    "from IPython.display import clear_output\n",
    "\n",
    "%load_ext autoreload\n",
    "%autoreload 1\n",
    "\n",
    "%aimport pden.Net\n",
    "%aimport pden.Operations\n",
    "%aimport pden.PDENet"
   ]
  },
  {
   "cell_type": "code",
   "execution_count": 22,
   "metadata": {},
   "outputs": [],
   "source": [
    "def der(y, x, y_shape: int, x_shape: int):\n",
    "    ys = tf.split(y, [1] * y_shape, 1)\n",
    "    def _der(i, j=[]):\n",
    "        f = ys[i]\n",
    "        for _j in j:\n",
    "            fs = tf.gradients(f, x)[0]\n",
    "            f  = tf.split(fs, [1] * x_shape, 1)[_j]        \n",
    "        return f\n",
    "    return _der"
   ]
  },
  {
   "cell_type": "code",
   "execution_count": 23,
   "metadata": {},
   "outputs": [
    {
     "name": "stdout",
     "output_type": "stream",
     "text": [
      "Net 25:\n",
      "\t3\tLinear: [1 -> 16]\n",
      "\t32\tActivation funciton: <function tanh at 0x10fd9f320>\n",
      "\t28\tLinear: [16 -> 16]\n",
      "\t11\tActivation funciton: <function cos at 0x10fd5d050>\n",
      "Net 16:\n",
      "\t1\tLinear: [1 -> 16]\n",
      "\t5\tActivation funciton: <function tanh at 0x10fd9f320>\n",
      "\t14\tLinear: [16 -> 16]\n",
      "\t25\tActivation funciton: <function cos at 0x10fd5d050>\n",
      "Net 9:\n",
      "\t19\tLinear: [16 -> 1]\n"
     ]
    }
   ],
   "source": [
    "k = 16\n",
    "net_1 = pden.Net.BasicNet(\n",
    "    pden.Operations.Linear(feature_out=k, feature_in=1, random_init = True),\n",
    "    pden.Operations.ActivationFunction(tf.nn.tanh),\n",
    "    pden.Operations.Linear(feature_out=k, feature_in=k, random_init = True),\n",
    "    pden.Operations.ActivationFunction(tf.cos)\n",
    ")\n",
    "\n",
    "net_2 = pden.Net.BasicNet(\n",
    "    pden.Operations.Linear(feature_out=k, feature_in=1, random_init = True),\n",
    "    pden.Operations.ActivationFunction(tf.nn.tanh),\n",
    "    pden.Operations.Linear(feature_out=k, feature_in=k, random_init = True),\n",
    "    pden.Operations.ActivationFunction(tf.cos)\n",
    ")\n",
    "\n",
    "net_3 = pden.Net.BasicNet(\n",
    "    pden.Operations.Linear(feature_out=1, feature_in=k, random_init = True)\n",
    ")\n",
    "\n",
    "pnet_1 = pden.PDENet.PDENET(net=net_1)\n",
    "pnet_2 = pden.PDENet.PDENET(net=net_2)\n",
    "pnet_3 = pden.PDENet.PDENET(net=net_3)\n",
    "\n",
    "print(net_1)\n",
    "print(net_2)\n",
    "print(net_3)"
   ]
  },
  {
   "cell_type": "code",
   "execution_count": 24,
   "metadata": {},
   "outputs": [],
   "source": [
    "x = tf.placeholder(tf.float64, [None, 2])\n",
    "_x, _t = tf.split(x, [1, 1], axis=1)\n",
    "X, T = pnet_1.forward(_x), pnet_2.forward(_t)\n",
    "Z = tf.multiply(X, T)\n",
    "y = pnet_3.forward(Z)\n",
    "\n",
    "x0 = tf.placeholder(tf.float64, [None, 2])\n",
    "_x, _t = tf.split(x0, [1, 1], axis=1)\n",
    "X, T = pnet_1.forward(_x), pnet_2.forward(_t)\n",
    "Z = tf.multiply(X, T)\n",
    "yx0 = pnet_3.forward(Z)\n",
    "\n",
    "t0 = tf.placeholder(tf.float64, [None, 2])\n",
    "_x, _t = tf.split(t0, [1, 1], axis=1)\n",
    "X, T = pnet_1.forward(_x), pnet_2.forward(_t)\n",
    "Z = tf.multiply(X, T)\n",
    "yt0 = pnet_3.forward(Z)\n",
    "\n",
    "t1 = tf.placeholder(tf.float64, [None, 2])\n",
    "_x, _t = tf.split(t1, [1, 1], axis=1)\n",
    "X, T = pnet_1.forward(_x), pnet_2.forward(_t)\n",
    "Z = tf.multiply(X, T)\n",
    "yt1 = pnet_3.forward(Z)\n",
    "\n",
    "der_gen = der(y, x, 1, 2)\n",
    "dy_dx = der_gen(0, j=[0])\n",
    "dy_dt = der_gen(0, j=[1])\n",
    "d2y_dx2 = der_gen(0, j=[0, 0])\n",
    "d2y_dt2 = der_gen(0, j=[1, 1])"
   ]
  },
  {
   "cell_type": "code",
   "execution_count": 25,
   "metadata": {},
   "outputs": [],
   "source": [
    "_x, _t = tf.split(x, [1, 1], 1)\n",
    "_x0, _ = tf.split(t0, [1, 1], 1)"
   ]
  },
  {
   "cell_type": "code",
   "execution_count": 26,
   "metadata": {},
   "outputs": [],
   "source": [
    "pnet_3 = pnet_3.add_loss(tf.reduce_mean(tf.pow(dy_dx + dy_dt + _x + _t - 1, 2)))\n",
    "pnet_3 = pnet_3.add_loss(tf.reduce_mean(tf.pow(yx0, 2)), weight=1.0)\n",
    "pnet_3 = pnet_3.add_loss(tf.reduce_mean(tf.pow(yt1, 2)), weight=1.0)\n",
    "pnet_3 = pnet_3.add_loss(tf.reduce_mean(tf.pow(yt0 - _x0, 2)), weight=1.0)"
   ]
  },
  {
   "cell_type": "code",
   "execution_count": 28,
   "metadata": {},
   "outputs": [],
   "source": [
    "learning_rate = 5e-3\n",
    "training_epochs = 6000\n",
    "display_step = 500\n",
    "\n",
    "opt = tf.train.AdamOptimizer(learning_rate = learning_rate)\n",
    "train = opt.minimize(pnet_3.loss)\n",
    "\n",
    "init = tf.global_variables_initializer()"
   ]
  },
  {
   "cell_type": "code",
   "execution_count": 29,
   "metadata": {},
   "outputs": [],
   "source": [
    "losses = []"
   ]
  },
  {
   "cell_type": "code",
   "execution_count": 30,
   "metadata": {},
   "outputs": [
    {
     "name": "stdout",
     "output_type": "stream",
     "text": [
      "Training error for net is \"33.96010388562339\". Epoch 0\n",
      "Training error for net is \"0.00581171298916672\". Epoch 500\n",
      "Training error for net is \"0.0015293826962420425\". Epoch 1000\n",
      "Training error for net is \"0.0008309645084480016\". Epoch 1500\n",
      "Training error for net is \"0.000546870584328464\". Epoch 2000\n",
      "Training error for net is \"0.0005587818395014313\". Epoch 2500\n",
      "Training error for net is \"0.015824910738300696\". Epoch 3000\n",
      "Training error for net is \"0.0026984293480909753\". Epoch 3500\n",
      "Training error for net is \"0.0006619344118387542\". Epoch 4000\n",
      "Training error for net is \"0.00014987491590736914\". Epoch 4500\n",
      "Training error for net is \"0.0032325164753808622\". Epoch 5000\n",
      "Training error for net is \"0.00048522752189164245\". Epoch 5500\n",
      "Optimization Finished!\n"
     ]
    }
   ],
   "source": [
    "sess = tf.Session()\n",
    "sess.run(init)\n",
    "\n",
    "for epoch in range(training_epochs):\n",
    "    \n",
    "#     P = np.random.uniform(0, 0.5, size=(1,))\n",
    "    \n",
    "    X = np.random.rand(300, 2)\n",
    "    X0= np.random.rand(25, 2)\n",
    "    X0[:, 0] = 0\n",
    "    T1= np.random.rand(25, 2)\n",
    "    T1[:, 1] = 1\n",
    "    T0= np.random.rand(25, 2)\n",
    "    T0[:, 1] = 0\n",
    "    \n",
    "    _, l, Y = sess.run([train, pnet_3.loss, y], feed_dict={\n",
    "        x: X,\n",
    "        x0: X0,\n",
    "        t0: T0, \n",
    "        t1: T1\n",
    "    })\n",
    "    \n",
    "    losses.append(np.log(l))\n",
    "    \n",
    "    if epoch % display_step == 0 and True:\n",
    "        print(f'Training error for net is \"{l}\". Epoch {epoch}')\n",
    "#         X = np.linspace(0, 1, 100)\n",
    "#         T = np.linspace(0, 1, 100)\n",
    "#         X, T = np.meshgrid(X, T)\n",
    "\n",
    "#         clear_output(wait=True)\n",
    "        \n",
    "#         plt.plot(X.flatten(), Y.flatten(), '--r', label='Net')\n",
    "#         plt.plot(X.flatten(), X.flatten() ** 2, '--b', label='Analytical')\n",
    "#         plt.legend()\n",
    "#         plt.show()\n",
    "\n",
    "        \n",
    "print(\"Optimization Finished!\")"
   ]
  },
  {
   "cell_type": "code",
   "execution_count": 32,
   "metadata": {},
   "outputs": [
    {
     "data": {
      "text/plain": [
       "[<matplotlib.lines.Line2D at 0x131fd1bd0>]"
      ]
     },
     "execution_count": 32,
     "metadata": {},
     "output_type": "execute_result"
    },
    {
     "data": {
      "image/png": "[encoded data removed]",
      "text/plain": [
       "<Figure size 432x288 with 1 Axes>"
      ]
     },
     "metadata": {
      "needs_background": "light"
     },
     "output_type": "display_data"
    }
   ],
   "source": [
    "plt.plot(losses)"
   ]
  },
  {
   "cell_type": "code",
   "execution_count": null,
   "metadata": {},
   "outputs": [],
   "source": []
  }
 ],
 "metadata": {
  "kernelspec": {
   "display_name": "Python 3",
   "language": "python",
   "name": "python3"
  },
  "language_info": {
   "codemirror_mode": {
    "name": "ipython",
    "version": 3
   },
   "file_extension": ".py",
   "mimetype": "text/x-python",
   "name": "python",
   "nbconvert_exporter": "python",
   "pygments_lexer": "ipython3",
   "version": "3.7.4"
  }
 },
 "nbformat": 4,
 "nbformat_minor": 2
}
