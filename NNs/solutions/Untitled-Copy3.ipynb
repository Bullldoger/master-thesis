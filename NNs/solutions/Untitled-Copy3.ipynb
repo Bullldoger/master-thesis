{
 "cells": [
  {
   "cell_type": "code",
   "execution_count": 331,
   "metadata": {},
   "outputs": [
    {
     "name": "stdout",
     "output_type": "stream",
     "text": [
      "The autoreload extension is already loaded. To reload it, use:\n",
      "  %reload_ext autoreload\n"
     ]
    }
   ],
   "source": [
    "import pden\n",
    "import pden.Net\n",
    "import pden.Operations\n",
    "import pden.PDENet\n",
    "\n",
    "import tensorflow as tf\n",
    "\n",
    "import numpy as np\n",
    "import matplotlib\n",
    "from matplotlib import pyplot as plt\n",
    "from IPython.display import clear_output\n",
    "\n",
    "%load_ext autoreload\n",
    "%autoreload 1\n",
    "\n",
    "%aimport pden.Net\n",
    "%aimport pden.Operations\n",
    "%aimport pden.PDENet"
   ]
  },
  {
   "cell_type": "code",
   "execution_count": 332,
   "metadata": {},
   "outputs": [],
   "source": [
    "def der(y, x, y_shape: int, x_shape: int):\n",
    "    ys = tf.split(y, [1] * y_shape, 1)\n",
    "    def _der(i, j=[]):\n",
    "        f = ys[i]\n",
    "        for _j in j:\n",
    "            fs = tf.gradients(f, x)[0]\n",
    "            f  = tf.split(fs, [1] * x_shape, 1)[_j]        \n",
    "        return f\n",
    "    return _der"
   ]
  },
  {
   "cell_type": "code",
   "execution_count": 333,
   "metadata": {},
   "outputs": [
    {
     "name": "stdout",
     "output_type": "stream",
     "text": [
      "Net 25:\n",
      "\t30\tLinear: [1 -> 5]\n",
      "\t3\tActivation funciton: <function cos at 0x108f13680>\n",
      "\t19\tLinear: [5 -> 1]\n",
      "Net 32:\n",
      "\t13\tLinear: [1 -> 5]\n",
      "\t15\tActivation funciton: <function sin at 0x108f4e290>\n",
      "\t28\tLinear: [5 -> 1]\n"
     ]
    }
   ],
   "source": [
    "N = 5\n",
    "\n",
    "pnet = pden.PDENet.FourierNet1D(fourier_terms=N, training_epochs=501, learning_rate=5e-2)\n",
    "\n",
    "print(pnet.net_cos)\n",
    "print(pnet.net_sin)"
   ]
  },
  {
   "cell_type": "code",
   "execution_count": 334,
   "metadata": {},
   "outputs": [],
   "source": [
    "init_x = tf.placeholder(tf.float64, [1, 1])\n",
    "init_y = pnet.forward(init_x)\n",
    "\n",
    "bc_x = tf.placeholder(tf.float64, [1, 1])\n",
    "bc_y = pnet.forward(bc_x)\n",
    "\n",
    "x = tf.placeholder(tf.float64, [None, 1])\n",
    "y = pnet.forward(x)\n",
    "\n",
    "der_gen = der(y, x, 1, 1)\n",
    "dy = der_gen(0, j=[0])"
   ]
  },
  {
   "cell_type": "code",
   "execution_count": 335,
   "metadata": {},
   "outputs": [],
   "source": [
    "pnet = pnet.add_loss(tf.reduce_mean(tf.pow(tf.pow(dy, 2) * y - tf.pow(2 * x, 2) * tf.pow(x, 2), 2)))\n",
    "pnet = pnet.add_loss(tf.reduce_mean(tf.pow(bc_y - 1.0, 2)), weight=15.0)\n",
    "pnet = pnet.add_loss(tf.reduce_mean(tf.pow(init_y - 0.0, 2)), weight=15.0)"
   ]
  },
  {
   "cell_type": "code",
   "execution_count": 336,
   "metadata": {},
   "outputs": [
    {
     "name": "stderr",
     "output_type": "stream",
     "text": [
      "Training progress: 100%|██████████| 501/501 [00:01<00:00, 332.11it/s]\n"
     ]
    },
    {
     "name": "stdout",
     "output_type": "stream",
     "text": [
      "Training finished in: \t1.8798029999999812\n",
      "\tAfter 501, loss is 0.002643028010649572\n",
      "Optimization Finished!\n"
     ]
    },
    {
     "data": {
      "image/png": "[encoded data removed]",
      "text/plain": [
       "<Figure size 432x288 with 1 Axes>"
      ]
     },
     "metadata": {
      "needs_background": "light"
     },
     "output_type": "display_data"
    }
   ],
   "source": [
    "X = np.linspace(0, 1, 100).reshape(-1, 1)\n",
    "\n",
    "feed_dict={\n",
    "    x: X,\n",
    "    init_x: np.array([[0.0]]),\n",
    "    bc_x: np.array([[1.0]])\n",
    "}\n",
    "\n",
    "Y = pnet.train(feed_dict)\n",
    "\n",
    "print(\"Optimization Finished!\")\n",
    "\n",
    "plt.plot(X.flatten(), Y.flatten(), '--b', label='Net')\n",
    "plt.plot(X.flatten(), X.flatten() ** 2, ':r', label='Func')\n",
    "plt.legend()\n",
    "plt.grid()\n",
    "plt.show()"
   ]
  }
 ],
 "metadata": {
  "kernelspec": {
   "display_name": "Python 3",
   "language": "python",
   "name": "python3"
  },
  "language_info": {
   "codemirror_mode": {
    "name": "ipython",
    "version": 3
   },
   "file_extension": ".py",
   "mimetype": "text/x-python",
   "name": "python",
   "nbconvert_exporter": "python",
   "pygments_lexer": "ipython3",
   "version": "3.7.4"
  }
 },
 "nbformat": 4,
 "nbformat_minor": 2
}
