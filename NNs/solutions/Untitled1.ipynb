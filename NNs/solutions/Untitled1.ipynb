{
 "cells": [
  {
   "cell_type": "code",
   "execution_count": 53,
   "metadata": {},
   "outputs": [],
   "source": [
    "import networkx as nx\n",
    "import numpy as np\n",
    "\n",
    "from queue import Queue\n",
    "\n",
    "import tensorflow as tf"
   ]
  },
  {
   "cell_type": "code",
   "execution_count": 54,
   "metadata": {},
   "outputs": [],
   "source": [
    "n = 3\n",
    "p = 1\n",
    "\n",
    "G = nx.random_graphs.binomial_graph(n, p)\n",
    "\n",
    "A = nx.adjacency_matrix(G).todense()\n",
    "A = np.tril(A, k=0).T\n",
    "\n",
    "G = nx.DiGraph(A)\n",
    "A = nx.adjacency_matrix(G).todense()"
   ]
  },
  {
   "cell_type": "code",
   "execution_count": 55,
   "metadata": {},
   "outputs": [],
   "source": [
    "# n = 3\n",
    "# G = nx.DiGraph()\n",
    "# G.add_nodes_from([0, 1, 2])\n",
    "\n",
    "# G.add_edges_from([\n",
    "#     (0, 1),\n",
    "#     (0, 2),\n",
    "# ])"
   ]
  },
  {
   "cell_type": "code",
   "execution_count": 57,
   "metadata": {},
   "outputs": [],
   "source": [
    "W, B = list(), list()\n",
    "\n",
    "for i in range(n):\n",
    "    _w, _b = list(), list()\n",
    "    for j in range(n):\n",
    "        \n",
    "        w = tf.Variable(np.random.rand(1, 1) / 10)\n",
    "        b = tf.Variable(np.random.rand(1, 1) / 10)\n",
    "\n",
    "        _w.append(w)\n",
    "        _b.append(b)\n",
    "            \n",
    "    W.append(_w)\n",
    "    B.append(_b)\n",
    "\n",
    "    \n",
    "W = np.array(W)\n",
    "B = np.array(B)\n",
    "# W = tf.Variable(np.random.normal(size=(n, n)))\n",
    "# B = tf.Variable(np.random.normal(size=(n, n)))"
   ]
  },
  {
   "cell_type": "code",
   "execution_count": 58,
   "metadata": {},
   "outputs": [],
   "source": [
    "# G = nx.DiGraph()\n",
    "# G.add_nodes_from([0, 1, 2, 3, 4])\n",
    "\n",
    "# G.add_edges_from([\n",
    "#     (0, 1),\n",
    "#     (0, 2),\n",
    "#     (0, 3),\n",
    "#     (0, 4), \n",
    "#     (1, 2), \n",
    "#     (1, 3),\n",
    "#     (1, 4),\n",
    "#     (2, 3), \n",
    "#     (2, 4), \n",
    "#     (3, 4)\n",
    "# #     (0, 1),\n",
    "# #     (1, 3),\n",
    "# #     (1, 3),\n",
    "# #     (0, 4),\n",
    "# #     (2, 3),\n",
    "# #     (4, 3),\n",
    "# #     (3, 4)\n",
    "# ])"
   ]
  },
  {
   "cell_type": "code",
   "execution_count": 59,
   "metadata": {},
   "outputs": [
    {
     "data": {
      "image/png": "[encoded data removed]",
      "text/plain": [
       "<Figure size 432x288 with 1 Axes>"
      ]
     },
     "metadata": {},
     "output_type": "display_data"
    }
   ],
   "source": [
    "nx.draw_networkx(G, pos=nx.shell_layout(G))"
   ]
  },
  {
   "cell_type": "code",
   "execution_count": 60,
   "metadata": {},
   "outputs": [],
   "source": [
    "x = tf.placeholder(tf.float64, shape=[None, 1])\n",
    "t = tf.placeholder(tf.float64, shape=[None, 1])\n",
    "q = Queue()=\n",
    "node = 0\n",
    "q.put(node)\n",
    "L = np.ones((n, n))\n",
    "V = dict()\n",
    "V[node] = x\n",
    "F = {\n",
    "    node: lambda x: x,\n",
    "    n - 1: lambda x: x\n",
    "}"
   ]
  },
  {
   "cell_type": "code",
   "execution_count": null,
   "metadata": {},
   "outputs": [],
   "source": [
    "input_nodes = [0, 1]"
   ]
  },
  {
   "cell_type": "code",
   "execution_count": 61,
   "metadata": {},
   "outputs": [
    {
     "data": {
      "text/plain": [
       "{0: <tf.Tensor 'Placeholder_3:0' shape=(?, 1) dtype=float64>,\n",
       " 1: <tf.Tensor 'Sigmoid_1:0' shape=(?, 1) dtype=float64>,\n",
       " 2: <tf.Tensor 'Add_12:0' shape=(?, 1) dtype=float64>}"
      ]
     },
     "execution_count": 61,
     "metadata": {},
     "output_type": "execute_result"
    }
   ],
   "source": [
    "while not q.empty():\n",
    "    v = q.get()\n",
    "    if v not in F:\n",
    "        V[v] = tf.nn.sigmoid(V[v])\n",
    "        \n",
    "    for k in nx.neighbors(G, v):\n",
    "        q.put(k)\n",
    "        if L[v, k] > 0.0:\n",
    "            _v = tf.add(tf.matmul(V[v], W[v, k]), B[v, k])\n",
    "            if k in V:\n",
    "                V[k] = tf.add(V[k], _v) \n",
    "            else:\n",
    "                V[k] = _v\n",
    "            L[v, k] = 0.0\n",
    "        else:\n",
    "            continue\n",
    "            \n",
    "V"
   ]
  },
  {
   "cell_type": "code",
   "execution_count": 63,
   "metadata": {},
   "outputs": [],
   "source": [
    "def der(y, x, y_shape: int, x_shape: int):\n",
    "    ys = tf.split(y, [1] * y_shape, 1)\n",
    "    def _der(i, j=[]):\n",
    "        f = ys[i]\n",
    "        for _j in j:\n",
    "            fs = tf.gradients(f, x)[0]\n",
    "            f  = tf.split(fs, [1] * x_shape, 1)[_j]        \n",
    "        return f\n",
    "    return _der"
   ]
  },
  {
   "cell_type": "code",
   "execution_count": 65,
   "metadata": {},
   "outputs": [],
   "source": [
    "y = V[n - 1]\n",
    "x = V[0]"
   ]
  },
  {
   "cell_type": "code",
   "execution_count": 62,
   "metadata": {},
   "outputs": [],
   "source": [
    "learning_rate = 0.01\n",
    "# l = tf.reduce_mean(tf.pow(V[n - 1] - tf.pow(tf.sin(tf.exp(V[0])), 3), 2))\n",
    "l = tf.reduce_mean(tf.pow(V[n - 1] - 1 / tf.math.bessel_i0(V[0]), 2))\n",
    "\n",
    "opt = tf.train.AdamOptimizer(learning_rate=learning_rate)\n",
    "train = opt.minimize(l)\n",
    "init = tf.global_variables_initializer()\n",
    "sess = tf.Session()\n",
    "sess.run(init)"
   ]
  },
  {
   "cell_type": "code",
   "execution_count": 21,
   "metadata": {},
   "outputs": [],
   "source": [
    "losses = []"
   ]
  },
  {
   "cell_type": "code",
   "execution_count": 22,
   "metadata": {
    "scrolled": true
   },
   "outputs": [
    {
     "name": "stdout",
     "output_type": "stream",
     "text": [
      "0.556465247157402\n",
      "0.00017672404055557272\n",
      "0.00013226784687344806\n",
      "5.38690782053653e-07\n",
      "5.74064391441328e-07\n"
     ]
    }
   ],
   "source": [
    "epochs = 10000\n",
    "for e in range(epochs):\n",
    "    \n",
    "    X = np.random.rand(1000, 1)\n",
    "    _, loss = sess.run([train, l], feed_dict={\n",
    "        V[0]: X\n",
    "    })\n",
    "    \n",
    "    losses.append(loss)\n",
    "    \n",
    "    if e % 2000 == 0:\n",
    "        print(loss)"
   ]
  },
  {
   "cell_type": "code",
   "execution_count": 23,
   "metadata": {},
   "outputs": [],
   "source": [
    "# l_classic = losses"
   ]
  },
  {
   "cell_type": "code",
   "execution_count": 25,
   "metadata": {},
   "outputs": [],
   "source": [
    "import pden\n",
    "import pden.Net\n",
    "import pden.Operations\n",
    "import pden.PDENet\n",
    "\n",
    "import tensorflow as tf\n",
    "\n",
    "import numpy as np\n",
    "import matplotlib\n",
    "from matplotlib import pyplot as plt\n",
    "from IPython.display import clear_output\n",
    "\n",
    "%load_ext autoreload\n",
    "%autoreload 1\n",
    "\n",
    "%aimport pden.Net\n",
    "%aimport pden.Operations\n",
    "%aimport pden.PDENet"
   ]
  },
  {
   "cell_type": "code",
   "execution_count": 29,
   "metadata": {},
   "outputs": [
    {
     "name": "stdout",
     "output_type": "stream",
     "text": [
      "Net 17:\n",
      "\t15\tLinear: [1 -> 16]\n",
      "\t17\tActivation funciton: <function tanh at 0x13694c170>\n",
      "\t29\tLinear: [16 -> 1]\n"
     ]
    }
   ],
   "source": [
    "k = 16\n",
    "net = pden.Net.BasicNet(\n",
    "    pden.Operations.Linear(feature_out=k, feature_in=1, random_init = True),\n",
    "    pden.Operations.ActivationFunction(tf.nn.tanh),\n",
    "    pden.Operations.Linear(feature_in=k, feature_out=1, random_init = True)\n",
    ")\n",
    "\n",
    "pnet = pden.PDENet.PDENET(net=net)\n",
    "print(net)"
   ]
  },
  {
   "cell_type": "code",
   "execution_count": 30,
   "metadata": {},
   "outputs": [],
   "source": [
    "x = tf.placeholder(tf.float64, [None, 1])\n",
    "y = pnet.forward(x)"
   ]
  },
  {
   "cell_type": "code",
   "execution_count": 31,
   "metadata": {},
   "outputs": [],
   "source": [
    "pnet = pnet.add_loss(tf.reduce_mean(tf.pow(y - 1 / tf.math.bessel_i0(x), 2)))"
   ]
  },
  {
   "cell_type": "code",
   "execution_count": 32,
   "metadata": {},
   "outputs": [],
   "source": [
    "learning_rate = 1e-2\n",
    "training_epochs = 6000\n",
    "display_step = 250\n",
    "\n",
    "opt = tf.train.AdamOptimizer(learning_rate = learning_rate)\n",
    "train = opt.minimize(pnet.loss)\n",
    "\n",
    "init = tf.global_variables_initializer()"
   ]
  },
  {
   "cell_type": "code",
   "execution_count": 33,
   "metadata": {},
   "outputs": [],
   "source": [
    "losses = []"
   ]
  },
  {
   "cell_type": "code",
   "execution_count": 34,
   "metadata": {},
   "outputs": [
    {
     "name": "stdout",
     "output_type": "stream",
     "text": [
      "Training error for net is \"0.06499848316075335\". Epoch 0\n",
      "Training error for net is \"0.00024023859393074948\". Epoch 250\n",
      "Training error for net is \"0.00012632856548927746\". Epoch 500\n",
      "Training error for net is \"7.029150059505275e-05\". Epoch 750\n",
      "Training error for net is \"2.7267413999564914e-05\". Epoch 1000\n",
      "Training error for net is \"1.2692560122214217e-05\". Epoch 1250\n",
      "Training error for net is \"5.442065635101209e-06\". Epoch 1500\n",
      "Training error for net is \"2.3964943050736337e-06\". Epoch 1750\n",
      "Training error for net is \"1.053120807576886e-06\". Epoch 2000\n",
      "Training error for net is \"2.0475661179716085e-06\". Epoch 2250\n",
      "Training error for net is \"6.2015171038054366e-06\". Epoch 2500\n",
      "Training error for net is \"5.8124637287520425e-05\". Epoch 2750\n",
      "Training error for net is \"5.8045659394981485e-05\". Epoch 3000\n",
      "Training error for net is \"2.2216604186895768e-06\". Epoch 3250\n",
      "Training error for net is \"8.911961982212305e-08\". Epoch 3500\n",
      "Training error for net is \"6.619039434262418e-05\". Epoch 3750\n",
      "Training error for net is \"1.0294610505958311e-05\". Epoch 4000\n",
      "Training error for net is \"1.01475709579041e-07\". Epoch 4250\n",
      "Training error for net is \"1.6825642289010678e-06\". Epoch 4500\n",
      "Training error for net is \"0.0005364950765464497\". Epoch 4750\n",
      "Training error for net is \"7.563485490993143e-08\". Epoch 5000\n",
      "Training error for net is \"1.5091036092314292e-05\". Epoch 5250\n",
      "Training error for net is \"6.431365696436996e-08\". Epoch 5500\n",
      "Training error for net is \"3.842662172891258e-06\". Epoch 5750\n",
      "Optimization Finished!\n"
     ]
    }
   ],
   "source": [
    "sess = tf.Session()\n",
    "sess.run(init)\n",
    "\n",
    "for epoch in range(training_epochs):\n",
    "    \n",
    "#     P = np.random.uniform(0, 0.5, size=(1,))\n",
    "    \n",
    "    X = np.random.rand(100, 1)\n",
    "    \n",
    "    _, l = sess.run([train, pnet.loss], feed_dict={\n",
    "        x: X,\n",
    "    })\n",
    "    \n",
    "    losses.append(l)\n",
    "    \n",
    "    if epoch % display_step == 0 and True:\n",
    "        print(f'Training error for net is \"{l}\". Epoch {epoch}')\n",
    "#         X = np.linspace(0, 1, 100)\n",
    "#         T = np.linspace(0, 1, 100)\n",
    "#         X, T = np.meshgrid(X, T)\n",
    "\n",
    "#         clear_output(wait=True)\n",
    "        \n",
    "#         plt.plot(X.flatten(), Y.flatten(), '--r', label='Net')\n",
    "#         plt.plot(X.flatten(), X.flatten() ** 2, '--b', label='Analytical')\n",
    "#         plt.legend()\n",
    "#         plt.show()\n",
    "\n",
    "        \n",
    "print(\"Optimization Finished!\")"
   ]
  },
  {
   "cell_type": "code",
   "execution_count": 35,
   "metadata": {},
   "outputs": [],
   "source": [
    "l_graph = losses"
   ]
  },
  {
   "cell_type": "code",
   "execution_count": 48,
   "metadata": {},
   "outputs": [],
   "source": [
    "xt = np.array(l_classic[:2000:100])\n",
    "xc = np.array(l_graph[:2000:100])"
   ]
  },
  {
   "cell_type": "code",
   "execution_count": 52,
   "metadata": {},
   "outputs": [
    {
     "data": {
      "image/png": "[encoded data removed]",
      "text/plain": [
       "<Figure size 720x288 with 1 Axes>"
      ]
     },
     "metadata": {
      "needs_background": "light"
     },
     "output_type": "display_data"
    }
   ],
   "source": [
    "plt.figure(figsize=(10, 4))\n",
    "plt.plot(np.log(xt), '--r', label='Left structure')\n",
    "plt.plot(np.log(xc), '--g', label='Right structure')\n",
    "# plt.plot(np.log(yt), '--y', label=r'$\\phi=cos, k = 4$')\n",
    "# plt.plot(np.log(yc), '--b', label=r'$\\phi=cos, k = 16$')\n",
    "plt.grid()\n",
    "plt.xlabel('#Iteration')\n",
    "plt.ylabel('log E')\n",
    "plt.legend()\n",
    "plt.show()"
   ]
  },
  {
   "cell_type": "code",
   "execution_count": null,
   "metadata": {},
   "outputs": [],
   "source": []
  }
 ],
 "metadata": {
  "kernelspec": {
   "display_name": "Python 3",
   "language": "python",
   "name": "python3"
  },
  "language_info": {
   "codemirror_mode": {
    "name": "ipython",
    "version": 3
   },
   "file_extension": ".py",
   "mimetype": "text/x-python",
   "name": "python",
   "nbconvert_exporter": "python",
   "pygments_lexer": "ipython3",
   "version": "3.7.4"
  }
 },
 "nbformat": 4,
 "nbformat_minor": 2
}
