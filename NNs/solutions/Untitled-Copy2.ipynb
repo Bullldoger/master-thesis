{
 "cells": [
  {
   "cell_type": "code",
   "execution_count": 152,
   "metadata": {},
   "outputs": [
    {
     "name": "stdout",
     "output_type": "stream",
     "text": [
      "The autoreload extension is already loaded. To reload it, use:\n",
      "  %reload_ext autoreload\n"
     ]
    }
   ],
   "source": [
    "import pden\n",
    "import pden.Net\n",
    "import pden.Operations\n",
    "import pden.PDENet\n",
    "\n",
    "import tensorflow as tf\n",
    "\n",
    "import numpy as np\n",
    "import matplotlib\n",
    "from matplotlib import pyplot as plt\n",
    "from IPython.display import clear_output\n",
    "\n",
    "%load_ext autoreload\n",
    "%autoreload 1\n",
    "\n",
    "%aimport pden.Net\n",
    "%aimport pden.Operations\n",
    "%aimport pden.PDENet"
   ]
  },
  {
   "cell_type": "code",
   "execution_count": 196,
   "metadata": {},
   "outputs": [],
   "source": [
    "def der(y, x, y_shape: int, x_shape: int):\n",
    "    ys = tf.split(y, [1] * y_shape, 1)\n",
    "    def _der(i, j=[]):\n",
    "        f = ys[i]\n",
    "        for _j in j:\n",
    "            fs = tf.gradients(f, x)[0]\n",
    "            f  = tf.split(fs, [1] * x_shape, 1)[_j]        \n",
    "        return f\n",
    "    return _der"
   ]
  },
  {
   "cell_type": "code",
   "execution_count": 273,
   "metadata": {},
   "outputs": [
    {
     "name": "stdout",
     "output_type": "stream",
     "text": [
      "Net 30:\n",
      "\t19\tLinear: [1 -> 4]\n",
      "\t12\tActivation funciton: <function cos at 0x11717d710>\n",
      "\t24\tLinear: [4 -> 1]\n",
      "Net 6:\n",
      "\t7\tLinear: [1 -> 4]\n",
      "\t13\tActivation funciton: <function sin at 0x1171b7320>\n",
      "\t12\tLinear: [4 -> 1]\n"
     ]
    }
   ],
   "source": [
    "N = 4\n",
    "net_cos = pden.Net.BasicNet(\n",
    "    pden.Operations.Linear(feature_out=N, random_init = True),\n",
    "    pden.Operations.ActivationFunction(tf.cos),\n",
    "    pden.Operations.Linear(feature_in=N, feature_out=1, random_init = True)\n",
    ")\n",
    "\n",
    "net_sin = pden.Net.BasicNet(\n",
    "    pden.Operations.Linear(feature_out=N, random_init = True),\n",
    "    pden.Operations.ActivationFunction(tf.sin),\n",
    "    pden.Operations.Linear(feature_in=N, feature_out=1, random_init = True)\n",
    ")\n",
    "\n",
    "pnet_sin = pden.PDENet.PDENET(net=net_sin)\n",
    "pnet_cos = pden.PDENet.PDENET(net=net_cos)\n",
    "\n",
    "print(net_cos)\n",
    "print(net_sin)"
   ]
  },
  {
   "cell_type": "code",
   "execution_count": 274,
   "metadata": {},
   "outputs": [],
   "source": [
    "x = tf.placeholder(tf.float64, [None, 1])\n",
    "COS = pnet_cos.forward(x)\n",
    "SIN = pnet_sin.forward(x)\n",
    "y = COS + SIN\n",
    "\n",
    "init_x = tf.placeholder(tf.float64, [1, 1])\n",
    "init_COS = pnet_cos.forward(init_x)\n",
    "init_SIN = pnet_sin.forward(init_x)\n",
    "init_y = init_COS + init_SIN\n",
    "\n",
    "bc_x = tf.placeholder(tf.float64, [1, 1])\n",
    "bc_COS = pnet_cos.forward(bc_x)\n",
    "bc_SIN = pnet_sin.forward(bc_x)\n",
    "bc_y = bc_COS + bc_SIN\n",
    "\n",
    "der_gen = der(y, x, 1, 1)\n",
    "dy = der_gen(0, j=[0])"
   ]
  },
  {
   "cell_type": "code",
   "execution_count": 275,
   "metadata": {},
   "outputs": [],
   "source": [
    "pnet_cos = pnet_cos.add_loss(tf.reduce_mean(tf.pow(dy - 2 * x, 2)))\n",
    "pnet_cos = pnet_cos.add_loss(tf.reduce_mean(tf.pow(bc_y - 1.0, 2)), weight=15.0)\n",
    "pnet_cos = pnet_cos.add_loss(tf.reduce_mean(tf.pow(init_y - 0.0, 2)), weight=15.0)\n",
    "\n",
    "pnet_sin = pnet_sin.add_loss(tf.reduce_mean(tf.pow(dy * tf.pow(y, 2) - 2 * x * tf.pow(x, 2), 2)))\n",
    "pnet_sin = pnet_sin.add_loss(tf.reduce_mean(tf.pow(bc_y - 1.0, 2)), weight=15.0)\n",
    "pnet_sin = pnet_sin.add_loss(tf.reduce_mean(tf.pow(init_y - 0.0, 2)), weight=15.0)"
   ]
  },
  {
   "cell_type": "code",
   "execution_count": 276,
   "metadata": {},
   "outputs": [],
   "source": [
    "learning_rate = 5e-2\n",
    "training_epochs = 2501\n",
    "display_step = 250\n",
    "\n",
    "opt = tf.train.AdamOptimizer(learning_rate = learning_rate)\n",
    "train = opt.minimize(pnet_cos.loss + pnet_sin.loss)\n",
    "\n",
    "init = tf.global_variables_initializer()"
   ]
  },
  {
   "cell_type": "code",
   "execution_count": 277,
   "metadata": {},
   "outputs": [],
   "source": [
    "X = np.linspace(0, 1, 50).reshape(-1, 1)"
   ]
  },
  {
   "cell_type": "code",
   "execution_count": 278,
   "metadata": {},
   "outputs": [
    {
     "name": "stdout",
     "output_type": "stream",
     "text": [
      "Training error for net is \"0.0033118968916864017\". Epoch 2500\n"
     ]
    },
    {
     "data": {
      "image/png": "[encoded data removed]",
      "text/plain": [
       "<Figure size 432x288 with 1 Axes>"
      ]
     },
     "metadata": {
      "needs_background": "light"
     },
     "output_type": "display_data"
    },
    {
     "name": "stdout",
     "output_type": "stream",
     "text": [
      "Optimization Finished!\n"
     ]
    }
   ],
   "source": [
    "sess = tf.Session()\n",
    "sess.run(init)\n",
    "\n",
    "for epoch in range(training_epochs):\n",
    "    \n",
    "#     P = np.random.uniform(0, 0.5, size=(1,))\n",
    "    \n",
    "    _, l, Y = sess.run([train, pnet_cos.loss, y], feed_dict={\n",
    "        x: X,\n",
    "        init_x: np.array([[0.0]]),\n",
    "        bc_x: np.array([[1.0]])\n",
    "    })\n",
    "    \n",
    "    if epoch % display_step == 0:\n",
    "        clear_output(wait=True)\n",
    "        \n",
    "        print(f'Training error for net is \"{l}\". Epoch {epoch}')\n",
    "        \n",
    "        plt.plot(X.flatten(), Y.flatten(), '--r', label='Net')\n",
    "        plt.plot(X.flatten(), X.flatten() ** 2, '--b', label='Analytical')\n",
    "        plt.legend()\n",
    "        plt.show()\n",
    "\n",
    "        \n",
    "print(\"Optimization Finished!\")"
   ]
  },
  {
   "cell_type": "code",
   "execution_count": null,
   "metadata": {},
   "outputs": [],
   "source": []
  }
 ],
 "metadata": {
  "kernelspec": {
   "display_name": "Python 3",
   "language": "python",
   "name": "python3"
  },
  "language_info": {
   "codemirror_mode": {
    "name": "ipython",
    "version": 3
   },
   "file_extension": ".py",
   "mimetype": "text/x-python",
   "name": "python",
   "nbconvert_exporter": "python",
   "pygments_lexer": "ipython3",
   "version": "3.7.4"
  }
 },
 "nbformat": 4,
 "nbformat_minor": 2
}
