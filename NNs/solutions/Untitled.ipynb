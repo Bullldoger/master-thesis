{
 "cells": [
  {
   "cell_type": "code",
   "execution_count": 166,
   "metadata": {},
   "outputs": [
    {
     "name": "stdout",
     "output_type": "stream",
     "text": [
      "The autoreload extension is already loaded. To reload it, use:\n",
      "  %reload_ext autoreload\n"
     ]
    }
   ],
   "source": [
    "import pden\n",
    "import pden.Net\n",
    "import pden.Operations\n",
    "import pden.PDENet\n",
    "\n",
    "import tensorflow as tf\n",
    "\n",
    "import numpy as np\n",
    "import matplotlib\n",
    "from matplotlib import pyplot as plt\n",
    "from IPython.display import clear_output\n",
    "\n",
    "%load_ext autoreload\n",
    "%autoreload 1\n",
    "\n",
    "%aimport pden.Net\n",
    "%aimport pden.Operations\n",
    "%aimport pden.PDENet"
   ]
  },
  {
   "cell_type": "code",
   "execution_count": 167,
   "metadata": {},
   "outputs": [],
   "source": [
    "def der(y, x, y_shape: int, x_shape: int):\n",
    "    ys = tf.split(y, [1] * y_shape, 1)\n",
    "    def _der(i, j=[]):\n",
    "        f = ys[i]\n",
    "        for _j in j:\n",
    "            fs = tf.gradients(f, x)[0]\n",
    "            f  = tf.split(fs, [1] * x_shape, 1)[_j]        \n",
    "        return f\n",
    "    return _der"
   ]
  },
  {
   "cell_type": "code",
   "execution_count": 193,
   "metadata": {},
   "outputs": [
    {
     "name": "stdout",
     "output_type": "stream",
     "text": [
      "Net 10:\n",
      "\t11\tLinear: [1 -> 2]\n",
      "\t14\tActivation funciton: <function tanh at 0x12c1bdc20>\n",
      "\t6\tLinear: [2 -> 2]\n",
      "\t17\tActivation funciton: <function tanh at 0x12c1bdc20>\n",
      "\t24\tLinear: [2 -> 1]\n"
     ]
    }
   ],
   "source": [
    "net = pden.Net.BasicNet(\n",
    "    pden.Operations.Linear(feature_out=2, random_init = True),\n",
    "    pden.Operations.ActivationFunction(tf.nn.tanh),\n",
    "    pden.Operations.Linear(feature_out=2, feature_in=2, random_init = True),\n",
    "    pden.Operations.ActivationFunction(tf.nn.tanh),\n",
    "    pden.Operations.Linear(feature_in=2, feature_out=1, random_init = True)\n",
    ")\n",
    "\n",
    "pnet = pden.PDENet.PDENET(net=net)\n",
    "print(net)"
   ]
  },
  {
   "cell_type": "code",
   "execution_count": 194,
   "metadata": {},
   "outputs": [],
   "source": [
    "x = tf.placeholder(tf.float64, [None, 1])\n",
    "y = pnet.forward(x)\n",
    "\n",
    "init_x = tf.placeholder(tf.float64, [1, 1])\n",
    "init_y = pnet.forward(init_x)\n",
    "\n",
    "bc_x = tf.placeholder(tf.float64, [1, 1])\n",
    "bc_y = pnet.forward(bc_x)\n",
    "\n",
    "der_gen = pnet.derivatives()\n",
    "dy = der_gen(0, j=[0])"
   ]
  },
  {
   "cell_type": "code",
   "execution_count": 195,
   "metadata": {},
   "outputs": [],
   "source": [
    "pnet = pnet.add_loss(tf.reduce_mean(tf.pow(dy * tf.pow(y, 2) - 0.5 * tf.sin(2 * x) * tf.sin(x), 2)))\n",
    "pnet = pnet.add_loss(tf.reduce_mean(tf.pow(bc_y - tf.sin(np.array([1.0])), 2)), weight=1.0)\n",
    "pnet = pnet.add_loss(tf.reduce_mean(tf.pow(init_y - 0.0, 2)), weight=1.0)"
   ]
  },
  {
   "cell_type": "code",
   "execution_count": 201,
   "metadata": {},
   "outputs": [],
   "source": [
    "learning_rate = 1e-3\n",
    "training_epochs = 5001\n",
    "display_step = 250\n",
    "\n",
    "opt = tf.train.AdamOptimizer(learning_rate = learning_rate)\n",
    "train = opt.minimize(pnet.loss)\n",
    "\n",
    "init = tf.global_variables_initializer()"
   ]
  },
  {
   "cell_type": "code",
   "execution_count": 202,
   "metadata": {},
   "outputs": [],
   "source": [
    "X = np.linspace(0, 1, 100).reshape(-1, 1)"
   ]
  },
  {
   "cell_type": "code",
   "execution_count": 205,
   "metadata": {},
   "outputs": [
    {
     "name": "stdout",
     "output_type": "stream",
     "text": [
      "Training error for net is \"0.0026148528108452663\". Epoch 5000\n"
     ]
    },
    {
     "data": {
      "image/png": "[encoded data removed]",
      "text/plain": [
       "<Figure size 432x288 with 1 Axes>"
      ]
     },
     "metadata": {
      "needs_background": "light"
     },
     "output_type": "display_data"
    },
    {
     "name": "stdout",
     "output_type": "stream",
     "text": [
      "Optimization Finished!\n"
     ]
    }
   ],
   "source": [
    "sess = tf.Session()\n",
    "sess.run(init)\n",
    "\n",
    "for epoch in range(training_epochs):\n",
    "    \n",
    "#     P = np.random.uniform(0, 0.5, size=(1,))\n",
    "    \n",
    "    _, l, Y = sess.run([train, pnet.loss, y], feed_dict={\n",
    "        x: X,\n",
    "        init_x: np.array([[0.0]]),\n",
    "        bc_x: np.array([[1.0]])\n",
    "    })\n",
    "    \n",
    "    if epoch % display_step == 0:\n",
    "        clear_output(wait=True)\n",
    "        \n",
    "        print(f'Training error for net is \"{l}\". Epoch {epoch}')\n",
    "        \n",
    "        plt.plot(X.flatten(), Y.flatten(), '--r', label='Net')\n",
    "        plt.plot(X.flatten(), np.sin(X.flatten()), '--b', label='Analytical')\n",
    "        plt.legend()\n",
    "        plt.show()\n",
    "\n",
    "        \n",
    "print(\"Optimization Finished!\")"
   ]
  },
  {
   "cell_type": "code",
   "execution_count": null,
   "metadata": {},
   "outputs": [],
   "source": []
  }
 ],
 "metadata": {
  "kernelspec": {
   "display_name": "Python 3",
   "language": "python",
   "name": "python3"
  },
  "language_info": {
   "codemirror_mode": {
    "name": "ipython",
    "version": 3
   },
   "file_extension": ".py",
   "mimetype": "text/x-python",
   "name": "python",
   "nbconvert_exporter": "python",
   "pygments_lexer": "ipython3",
   "version": "3.7.4"
  }
 },
 "nbformat": 4,
 "nbformat_minor": 2
}
