{
 "cells": [
  {
   "cell_type": "code",
   "execution_count": 3,
   "metadata": {
    "scrolled": true
   },
   "outputs": [
    {
     "name": "stdout",
     "output_type": "stream",
     "text": [
      "The autoreload extension is already loaded. To reload it, use:\n",
      "  %reload_ext autoreload\n"
     ]
    }
   ],
   "source": [
    "import pden\n",
    "import pden.Net\n",
    "import pden.Operations\n",
    "import pden.PDENet\n",
    "\n",
    "import tensorflow as tf\n",
    "\n",
    "import numpy as np\n",
    "import matplotlib\n",
    "from matplotlib import pyplot as plt\n",
    "from IPython.display import clear_output\n",
    "\n",
    "%load_ext autoreload\n",
    "%autoreload 1\n",
    "\n",
    "%aimport pden.Net\n",
    "%aimport pden.Operations\n",
    "%aimport pden.PDENet"
   ]
  },
  {
   "cell_type": "code",
   "execution_count": 4,
   "metadata": {},
   "outputs": [],
   "source": [
    "def der(y, x, y_shape: int, x_shape: int):\n",
    "    ys = tf.split(y, [1] * y_shape, 1)\n",
    "    def _der(i, j=[]):\n",
    "        f = ys[i]\n",
    "        for _j in j:\n",
    "            fs = tf.gradients(f, x)[0]\n",
    "            f  = tf.split(fs, [1] * x_shape, 1)[_j]        \n",
    "        return f\n",
    "    return _der"
   ]
  },
  {
   "cell_type": "code",
   "execution_count": 6,
   "metadata": {},
   "outputs": [
    {
     "name": "stdout",
     "output_type": "stream",
     "text": [
      "Net 0:\n",
      "\t30\tLinear: [2 -> 45]\n",
      "\t12\tActivation funciton: <function tanh at 0x12a163320>\n",
      "\t16\tLinear: [45 -> 45]\n",
      "\t10\tActivation funciton: <function tanh at 0x12a163320>\n",
      "\t6\tLinear: [45 -> 45]\n",
      "\t20\tActivation funciton: <function tanh at 0x12a163320>\n",
      "\t25\tLinear: [45 -> 1]\n"
     ]
    }
   ],
   "source": [
    "k = 45\n",
    "net = pden.Net.BasicNet(\n",
    "    pden.Operations.Linear(feature_out=k, feature_in=2, random_init = True),\n",
    "    pden.Operations.ActivationFunction(tf.nn.tanh),\n",
    "    pden.Operations.Linear(feature_in=k, feature_out=k, random_init = True),\n",
    "    pden.Operations.ActivationFunction(tf.nn.tanh),\n",
    "    pden.Operations.Linear(feature_in=k, feature_out=k, random_init = True),\n",
    "    pden.Operations.ActivationFunction(tf.nn.tanh),\n",
    "    pden.Operations.Linear(feature_in=k, feature_out=1, random_init = True)\n",
    ")\n",
    "\n",
    "pnet = pden.PDENet.PDENET(net=net)\n",
    "print(net)"
   ]
  },
  {
   "cell_type": "code",
   "execution_count": 7,
   "metadata": {},
   "outputs": [],
   "source": [
    "x = tf.placeholder(tf.float64, [None, 2])\n",
    "y = pnet.forward(x)\n",
    "\n",
    "x0 = tf.placeholder(tf.float64, [None, 2])\n",
    "yx0 = pnet.forward(x0)\n",
    "\n",
    "t0 = tf.placeholder(tf.float64, [None, 2])\n",
    "yt0 = pnet.forward(t0)\n",
    "\n",
    "t1 = tf.placeholder(tf.float64, [None, 2])\n",
    "yt1 = pnet.forward(t1)\n",
    "\n",
    "der_gen = der(y, x, 1, 2)\n",
    "dy_dx = der_gen(0, j=[0])\n",
    "dy_dt = der_gen(0, j=[1])\n",
    "d2y_dx2 = der_gen(0, j=[0, 0])\n",
    "d2y_dt2 = der_gen(0, j=[1, 1])"
   ]
  },
  {
   "cell_type": "code",
   "execution_count": 8,
   "metadata": {},
   "outputs": [],
   "source": [
    "_x, _t = tf.split(x, [1, 1], 1)\n",
    "_x0, _ = tf.split(t0, [1, 1], 1)"
   ]
  },
  {
   "cell_type": "code",
   "execution_count": 9,
   "metadata": {},
   "outputs": [],
   "source": [
    "pnet = pnet.add_loss(tf.reduce_mean(tf.pow(dy_dx + dy_dt + _x + _t - 1, 2)))\n",
    "pnet = pnet.add_loss(tf.reduce_mean(tf.pow(yx0, 2)), weight=1.0)\n",
    "pnet = pnet.add_loss(tf.reduce_mean(tf.pow(yt1, 2)), weight=1.0)\n",
    "pnet = pnet.add_loss(tf.reduce_mean(tf.pow(yt0 - _x0, 2)), weight=1.0)"
   ]
  },
  {
   "cell_type": "code",
   "execution_count": 10,
   "metadata": {},
   "outputs": [
    {
     "name": "stdout",
     "output_type": "stream",
     "text": [
      "WARNING:tensorflow:From /Users/hegnatin/PycharmProjects/ppde/venv/lib/python3.7/site-packages/tensorflow/python/ops/math_grad.py:1205: add_dispatch_support.<locals>.wrapper (from tensorflow.python.ops.array_ops) is deprecated and will be removed in a future version.\n",
      "Instructions for updating:\n",
      "Use tf.where in 2.0, which has the same broadcast rule as np.where\n"
     ]
    }
   ],
   "source": [
    "learning_rate = 1e-3\n",
    "training_epochs = 6001\n",
    "display_step = 500\n",
    "\n",
    "opt = tf.train.AdamOptimizer(learning_rate = learning_rate)\n",
    "train = opt.minimize(pnet.loss)\n",
    "\n",
    "init = tf.global_variables_initializer()"
   ]
  },
  {
   "cell_type": "code",
   "execution_count": 11,
   "metadata": {},
   "outputs": [],
   "source": [
    "losses = []"
   ]
  },
  {
   "cell_type": "code",
   "execution_count": 12,
   "metadata": {},
   "outputs": [
    {
     "name": "stdout",
     "output_type": "stream",
     "text": [
      "Training error for net is \"1215.4125790329806\". Epoch 0\n",
      "Training error for net is \"1.9318055354993757\". Epoch 500\n",
      "Training error for net is \"0.6884744093451427\". Epoch 1000\n",
      "Training error for net is \"0.48956690954989673\". Epoch 1500\n",
      "Training error for net is \"0.27598971435746983\". Epoch 2000\n",
      "Training error for net is \"0.16251503962339253\". Epoch 2500\n",
      "Training error for net is \"0.16821642038492568\". Epoch 3000\n",
      "Training error for net is \"0.12667125712977947\". Epoch 3500\n",
      "Training error for net is \"0.08861545699639987\". Epoch 4000\n",
      "Training error for net is \"0.09760104386067976\". Epoch 4500\n",
      "Training error for net is \"0.0604798959222293\". Epoch 5000\n",
      "Training error for net is \"0.038127605658955635\". Epoch 5500\n",
      "Training error for net is \"0.029580074323340238\". Epoch 6000\n",
      "Optimization Finished!\n"
     ]
    }
   ],
   "source": [
    "sess = tf.Session()\n",
    "sess.run(init)\n",
    "\n",
    "for epoch in range(training_epochs):\n",
    "    \n",
    "#     P = np.random.uniform(0, 0.5, size=(1,))\n",
    "    \n",
    "    X = np.random.rand(100, 2)\n",
    "    X0= np.random.rand(100, 2)\n",
    "    X0[:, 0] = 0\n",
    "    T1= np.random.rand(100, 2)\n",
    "    T1[:, 1] = 1\n",
    "    T0= np.random.rand(100, 2)\n",
    "    T0[:, 1] = 0\n",
    "    \n",
    "    _, l, Y = sess.run([train, pnet.loss, y], feed_dict={\n",
    "        x: X,\n",
    "        x0: X0,\n",
    "        t0: T0, \n",
    "        t1: T1\n",
    "    })\n",
    "    \n",
    "    losses.append(np.log(l))\n",
    "    \n",
    "    if epoch % display_step == 0 and True:\n",
    "        print(f'Training error for net is \"{l}\". Epoch {epoch}')\n",
    "#         X = np.linspace(0, 1, 100)\n",
    "#         T = np.linspace(0, 1, 100)\n",
    "#         X, T = np.meshgrid(X, T)\n",
    "\n",
    "#         clear_output(wait=True)\n",
    "        \n",
    "#         plt.plot(X.flatten(), Y.flatten(), '--r', label='Net')\n",
    "#         plt.plot(X.flatten(), X.flatten() ** 2, '--b', label='Analytical')\n",
    "#         plt.legend()\n",
    "#         plt.show()\n",
    "\n",
    "        \n",
    "print(\"Optimization Finished!\")"
   ]
  },
  {
   "cell_type": "code",
   "execution_count": 13,
   "metadata": {},
   "outputs": [
    {
     "data": {
      "text/plain": [
       "[<matplotlib.lines.Line2D at 0x110bd1490>]"
      ]
     },
     "execution_count": 13,
     "metadata": {},
     "output_type": "execute_result"
    },
    {
     "data": {
      "image/png": "[encoded data removed]",
      "text/plain": [
       "<Figure size 432x288 with 1 Axes>"
      ]
     },
     "metadata": {
      "needs_background": "light"
     },
     "output_type": "display_data"
    }
   ],
   "source": [
    "plt.plot(losses[::50])"
   ]
  }
 ],
 "metadata": {
  "kernelspec": {
   "display_name": "Python 3",
   "language": "python",
   "name": "python3"
  },
  "language_info": {
   "codemirror_mode": {
    "name": "ipython",
    "version": 3
   },
   "file_extension": ".py",
   "mimetype": "text/x-python",
   "name": "python",
   "nbconvert_exporter": "python",
   "pygments_lexer": "ipython3",
   "version": "3.7.4"
  }
 },
 "nbformat": 4,
 "nbformat_minor": 2
}
