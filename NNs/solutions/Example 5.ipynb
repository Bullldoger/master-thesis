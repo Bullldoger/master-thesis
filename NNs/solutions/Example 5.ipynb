{
 "cells": [
  {
   "cell_type": "code",
   "execution_count": 14,
   "metadata": {
    "scrolled": true
   },
   "outputs": [
    {
     "name": "stdout",
     "output_type": "stream",
     "text": [
      "The autoreload extension is already loaded. To reload it, use:\n",
      "  %reload_ext autoreload\n"
     ]
    }
   ],
   "source": [
    "import pden\n",
    "import pden.Net\n",
    "import pden.Operations\n",
    "import pden.PDENet\n",
    "\n",
    "import tensorflow as tf\n",
    "\n",
    "import numpy as np\n",
    "import matplotlib\n",
    "from matplotlib import pyplot as plt\n",
    "from IPython.display import clear_output\n",
    "\n",
    "%load_ext autoreload\n",
    "%autoreload 1\n",
    "\n",
    "%aimport pden.Net\n",
    "%aimport pden.Operations\n",
    "%aimport pden.PDENet"
   ]
  },
  {
   "cell_type": "code",
   "execution_count": 15,
   "metadata": {},
   "outputs": [],
   "source": [
    "def der(y, x, y_shape: int, x_shape: int):\n",
    "    ys = tf.split(y, [1] * y_shape, 1)\n",
    "    def _der(i, j=[]):\n",
    "        f = ys[i]\n",
    "        for _j in j:\n",
    "            fs = tf.gradients(f, x)[0]\n",
    "            f  = tf.split(fs, [1] * x_shape, 1)[_j]        \n",
    "        return f\n",
    "    return _der"
   ]
  },
  {
   "cell_type": "code",
   "execution_count": 16,
   "metadata": {},
   "outputs": [
    {
     "name": "stdout",
     "output_type": "stream",
     "text": [
      "Net 31:\n",
      "\t32\tLinear: [2 -> 32]\n",
      "\t9\tActivation funciton: <function cos at 0x11a434830>\n",
      "\t10\tLinear: [32 -> 32]\n",
      "\t0\tActivation funciton: <function cos at 0x11a434830>\n",
      "\t7\tLinear: [32 -> 1]\n",
      "Net 23:\n",
      "\t6\tLinear: [2 -> 32]\n",
      "\t8\tActivation funciton: <function cos at 0x11a434830>\n",
      "\t17\tLinear: [32 -> 32]\n",
      "\t14\tActivation funciton: <function cos at 0x11a434830>\n",
      "\t5\tLinear: [32 -> 1]\n"
     ]
    }
   ],
   "source": [
    "k = 32\n",
    "net1 = pden.Net.BasicNet(\n",
    "    pden.Operations.Linear(feature_out=k, feature_in=2, random_init = True),\n",
    "    pden.Operations.ActivationFunction(tf.cos),\n",
    "    pden.Operations.Linear(feature_in=k, feature_out=k, random_init = True),\n",
    "    pden.Operations.ActivationFunction(tf.cos),\n",
    "#     pden.Operations.Linear(feature_in=k, feature_out=k, random_init = True),\n",
    "#     pden.Operations.ActivationFunction(tf.nn.tanh),\n",
    "    pden.Operations.Linear(feature_in=k, feature_out=1, random_init = True)\n",
    ")\n",
    "\n",
    "net2 = pden.Net.BasicNet(\n",
    "    pden.Operations.Linear(feature_out=k, feature_in=2, random_init = True),\n",
    "    pden.Operations.ActivationFunction(tf.cos),\n",
    "    pden.Operations.Linear(feature_in=k, feature_out=k, random_init = True),\n",
    "    pden.Operations.ActivationFunction(tf.cos),\n",
    "#     pden.Operations.Linear(feature_in=k, feature_out=k, random_init = True),\n",
    "#     pden.Operations.ActivationFunction(tf.nn.tanh),\n",
    "    pden.Operations.Linear(feature_in=k, feature_out=1, random_init = True)\n",
    ")\n",
    "\n",
    "pnet1 = pden.PDENet.PDENET(net=net1)\n",
    "pnet2 = pden.PDENet.PDENET(net=net2)\n",
    "\n",
    "print(net1)\n",
    "print(net2)"
   ]
  },
  {
   "cell_type": "code",
   "execution_count": 17,
   "metadata": {},
   "outputs": [],
   "source": [
    "x = tf.placeholder(tf.float64, [None, 2])\n",
    "# u = pnet1.forward(x)\n",
    "# u1, u2 = tf.split(u, [1, 1], 1)\n",
    "u1, u2 = pnet1.forward(x), pnet2.forward(x)\n",
    "\n",
    "x0 = tf.placeholder(tf.float64, [None, 2])\n",
    "# ux0 = pnet1.forward(x0)\n",
    "# u1x0, u2x0 = tf.split(ux0, [1, 1], 1)\n",
    "u1x0, u2x0 = pnet1.forward(x0), pnet2.forward(x0)\n",
    "\n",
    "t0 = tf.placeholder(tf.float64, [None, 2])\n",
    "# ut0 = pnet1.forward(t0)\n",
    "# u1t0, u2t0 = tf.split(ut0, [1, 1], 1)\n",
    "u1t0, u2t0 = pnet1.forward(t0), pnet2.forward(t0)\n",
    "\n",
    "t1 = tf.placeholder(tf.float64, [None, 2])\n",
    "# ut1 = pnet1.forward(t1)\n",
    "# u1t1, u2t1 = tf.split(ut1, [1, 1], 1)\n",
    "u1t1, u2t1 = pnet1.forward(t1), pnet2.forward(t1)\n",
    "\n",
    "der_gen1 = der(u1, x, 1, 2)\n",
    "der_gen2 = der(u2, x, 1, 2)\n",
    "\n",
    "du1_dx = der_gen1(0, j=[0])\n",
    "du1_dt = der_gen1(0, j=[1])\n",
    "\n",
    "du2_dx = der_gen2(0, j=[0])\n",
    "du2_dt = der_gen2(0, j=[1])\n",
    "\n",
    "# du1, du2 = der_gen(0, j=[0, 1]), der_gen(1, j=[0, 1])"
   ]
  },
  {
   "cell_type": "code",
   "execution_count": 18,
   "metadata": {},
   "outputs": [],
   "source": [
    "_x, _t = tf.split(x, [1, 1], 1)"
   ]
  },
  {
   "cell_type": "code",
   "execution_count": 19,
   "metadata": {},
   "outputs": [],
   "source": [
    "pnet1 = pnet1.add_loss(tf.reduce_mean(tf.pow(du1_dx + du2_dt - _t * tf.cos(_x) + _x * tf.sin(_t), 2)))\n",
    "pnet1 = pnet1.add_loss(tf.reduce_mean(tf.pow(du1_dt + du2_dx - _x * tf.cos(_t) + _t * tf.sin(_x), 2)))\n",
    "\n",
    "pnet1 = pnet1.add_loss(tf.reduce_mean(tf.pow(u1x0, 2)))\n",
    "pnet1 = pnet1.add_loss(tf.reduce_mean(tf.pow(u1t0, 2)))\n",
    "pnet1 = pnet1.add_loss(tf.reduce_mean(tf.pow(u1t1 - tf.sin(_x), 2)))\n",
    "\n",
    "pnet1 = pnet1.add_loss(tf.reduce_mean(tf.pow(u2t0 - 1.0, 2)))\n",
    "pnet1 = pnet1.add_loss(tf.reduce_mean(tf.pow(u2x0 - 1.0, 2)))\n",
    "pnet1 = pnet1.add_loss(tf.reduce_mean(tf.pow(u2t1 - tf.cos(_x), 2)))\n",
    "\n",
    "# pnet2 = pnet1.add_loss(tf.reduce_mean(tf.pow(du1_dx + du2_dt - _t * tf.cos(_x) + _x * tf.sin(_t), 2)))\n",
    "# pnet2 = pnet1.add_loss(tf.reduce_mean(tf.pow(du1_dt + du2_dx - _x * tf.cos(_t) + _t * tf.sin(_x), 2)))\n",
    "\n",
    "# pnet2 = pnet2.add_loss(tf.reduce_mean(tf.pow(u1x0, 2)))\n",
    "# pnet2 = pnet2.add_loss(tf.reduce_mean(tf.pow(u1t0, 2)))\n",
    "# pnet2 = pnet2.add_loss(tf.reduce_mean(tf.pow(u1t1 - tf.sin(_x), 2)))\n",
    "\n",
    "# pnet2 = pnet2.add_loss(tf.reduce_mean(tf.pow(u2t0 - 1.0, 2)))\n",
    "# pnet2 = pnet2.add_loss(tf.reduce_mean(tf.pow(u2x0 - 1.0, 2)))\n",
    "# pnet2 = pnet2.add_loss(tf.reduce_mean(tf.pow(u2t1 - tf.cos(_x), 2)))"
   ]
  },
  {
   "cell_type": "code",
   "execution_count": 20,
   "metadata": {},
   "outputs": [],
   "source": [
    "learning_rate = 5e-2\n",
    "training_epochs = 6000\n",
    "display_step = 250\n",
    "\n",
    "loss = pnet1.loss\n",
    "\n",
    "opt = tf.train.AdamOptimizer(learning_rate = learning_rate)\n",
    "train = opt.minimize(loss)\n",
    "\n",
    "init = tf.global_variables_initializer()"
   ]
  },
  {
   "cell_type": "code",
   "execution_count": 21,
   "metadata": {},
   "outputs": [],
   "source": [
    "losses = []"
   ]
  },
  {
   "cell_type": "code",
   "execution_count": 22,
   "metadata": {},
   "outputs": [
    {
     "name": "stdout",
     "output_type": "stream",
     "text": [
      "Training error for net is \"1196.302262206018\". Epoch 0\n",
      "Training error for net is \"0.15985065560903527\". Epoch 250\n",
      "Training error for net is \"0.11791225077990744\". Epoch 500\n",
      "Training error for net is \"0.11572841054152036\". Epoch 750\n",
      "Training error for net is \"0.11041377661343224\". Epoch 1000\n",
      "Training error for net is \"0.15111973118898692\". Epoch 1250\n",
      "Training error for net is \"0.4759324663920722\". Epoch 1500\n",
      "Training error for net is \"0.12286027167002639\". Epoch 1750\n",
      "Training error for net is \"0.13835761664781301\". Epoch 2000\n",
      "Training error for net is \"0.14121479535510092\". Epoch 2250\n",
      "Training error for net is \"0.14596066068745495\". Epoch 2500\n",
      "Training error for net is \"0.11275363248930048\". Epoch 2750\n",
      "Training error for net is \"0.15565013180986226\". Epoch 3000\n",
      "Training error for net is \"0.1127048264115772\". Epoch 3250\n",
      "Training error for net is \"0.10567825319256428\". Epoch 3500\n",
      "Training error for net is \"0.10835852700430812\". Epoch 3750\n",
      "Training error for net is \"0.09993669468546562\". Epoch 4000\n",
      "Training error for net is \"0.10101711542117897\". Epoch 4250\n",
      "Training error for net is \"0.10091481537564881\". Epoch 4500\n",
      "Training error for net is \"0.12760379627452573\". Epoch 4750\n",
      "Training error for net is \"0.09682814945066363\". Epoch 5000\n",
      "Training error for net is \"0.10478551876396046\". Epoch 5250\n",
      "Training error for net is \"0.09755679531080537\". Epoch 5500\n",
      "Training error for net is \"0.10515750947872086\". Epoch 5750\n",
      "Optimization Finished!\n"
     ]
    }
   ],
   "source": [
    "sess = tf.Session()\n",
    "sess.run(init)\n",
    "\n",
    "for epoch in range(training_epochs):\n",
    "    \n",
    "#     P = np.random.uniform(0, 0.5, size=(1,))\n",
    "    \n",
    "    X = np.random.rand(100, 2)\n",
    "    X0= np.random.rand(100, 2)\n",
    "    X0[:, 0] = 0\n",
    "    T1= np.random.rand(100, 2)\n",
    "    T1[:, 1] = 1\n",
    "    T0= np.random.rand(100, 2)\n",
    "    T0[:, 1] = 0\n",
    "    \n",
    "    _, l = sess.run([train, loss], feed_dict={\n",
    "        x: X,\n",
    "        x0: X0,\n",
    "        t0: T0, \n",
    "        t1: T1\n",
    "    })\n",
    "    \n",
    "#     l /= 2\n",
    "    \n",
    "    losses.append(l)\n",
    "    \n",
    "    if epoch % display_step == 0 and True:\n",
    "        print(f'Training error for net is \"{l}\". Epoch {epoch}')\n",
    "\n",
    "        \n",
    "print(\"Optimization Finished!\")"
   ]
  },
  {
   "cell_type": "code",
   "execution_count": 13,
   "metadata": {},
   "outputs": [],
   "source": [
    "# l_tanh = losses"
   ]
  },
  {
   "cell_type": "code",
   "execution_count": 23,
   "metadata": {},
   "outputs": [],
   "source": [
    "# l_cos = losses"
   ]
  },
  {
   "cell_type": "code",
   "execution_count": 196,
   "metadata": {},
   "outputs": [],
   "source": [
    "# l_cos_8 = losses"
   ]
  },
  {
   "cell_type": "code",
   "execution_count": 197,
   "metadata": {},
   "outputs": [],
   "source": [
    "# l_cos_64 = losses"
   ]
  },
  {
   "cell_type": "code",
   "execution_count": 36,
   "metadata": {},
   "outputs": [],
   "source": [
    "xt = np.array(l_tanh[:1000:100])\n",
    "xc = np.array(l_cos[:1000:100])\n",
    "# yt = np.array(l_cos_8[:2500:100])\n",
    "# yc = np.array(l_cos_64[:2500:100])"
   ]
  },
  {
   "cell_type": "code",
   "execution_count": 39,
   "metadata": {},
   "outputs": [
    {
     "data": {
      "image/png": "[encoded data removed]",
      "text/plain": [
       "<Figure size 720x288 with 1 Axes>"
      ]
     },
     "metadata": {
      "needs_background": "light"
     },
     "output_type": "display_data"
    }
   ],
   "source": [
    "plt.figure(figsize=(10, 4))\n",
    "plt.plot(np.log(xt), '--r', label=r'$f(x)=cos(x)$')\n",
    "plt.plot(np.log(xc), '--g', label=r'$f(x)=th(x)$')\n",
    "# plt.plot(np.log(yt), '--y', label=r'$\\phi=cos, k = 8$')\n",
    "# plt.plot(np.log(yc), '--b', label=r'$\\phi=cos, k = 64$')\n",
    "plt.grid()\n",
    "plt.xlabel('#Iteration')\n",
    "plt.ylabel('log E')\n",
    "plt.legend()\n",
    "plt.show()"
   ]
  },
  {
   "cell_type": "code",
   "execution_count": null,
   "metadata": {},
   "outputs": [],
   "source": []
  }
 ],
 "metadata": {
  "kernelspec": {
   "display_name": "Python 3",
   "language": "python",
   "name": "python3"
  },
  "language_info": {
   "codemirror_mode": {
    "name": "ipython",
    "version": 3
   },
   "file_extension": ".py",
   "mimetype": "text/x-python",
   "name": "python",
   "nbconvert_exporter": "python",
   "pygments_lexer": "ipython3",
   "version": "3.7.4"
  }
 },
 "nbformat": 4,
 "nbformat_minor": 2
}
