{
 "cells": [
  {
   "cell_type": "code",
   "execution_count": 30,
   "metadata": {},
   "outputs": [
    {
     "data": {
      "text/html": [
       "<div><img alt=\"Output\" src=\"data:image/png;base64,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\"></div>"
      ]
     },
     "execution_count": 31,
     "metadata": {
      "text/html": []
     },
     "output_type": "execute_result"
    }
   ],
   "source": [
    "A = {{1, -1, 0}, {-1, 2, -1}, {0, -1, 1}};\n",
    "A // MatrixForm"
   ]
  },
  {
   "cell_type": "code",
   "execution_count": 33,
   "metadata": {},
   "outputs": [],
   "source": [
    "P = Eigensystem[A];"
   ]
  },
  {
   "cell_type": "code",
   "execution_count": 34,
   "metadata": {},
   "outputs": [],
   "source": [
    "{d, V} = {P[[1]], Transpose[P[[2]]]};"
   ]
  },
  {
   "cell_type": "code",
   "execution_count": 35,
   "metadata": {},
   "outputs": [
    {
     "data": {
      "text/html": [
       "<div><img alt=\"Output\" src=\"data:image/png;base64,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\"></div>"
      ]
     },
     "execution_count": 36,
     "metadata": {
      "text/html": []
     },
     "output_type": "execute_result"
    }
   ],
   "source": [
    "d = DiagonalMatrix[Exp[d t]];\n",
    "d // MatrixForm"
   ]
  },
  {
   "cell_type": "code",
   "execution_count": 44,
   "metadata": {},
   "outputs": [
    {
     "data": {
      "text/html": [
       "<div><img alt=\"Output\" src=\"data:image/png;base64,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\"></div>"
      ]
     },
     "execution_count": 44,
     "metadata": {
      "text/html": []
     },
     "output_type": "execute_result"
    }
   ],
   "source": [
    "V // MatrixForm"
   ]
  },
  {
   "cell_type": "code",
   "execution_count": 52,
   "metadata": {},
   "outputs": [
    {
     "data": {
      "text/html": [
       "<div><img alt=\"Output\" src=\"data:image/png;base64,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\"></div>"
      ]
     },
     "execution_count": 52,
     "metadata": {
      "text/html": []
     },
     "output_type": "execute_result"
    }
   ],
   "source": [
    "V.d.Inverse[V] // MatrixForm"
   ]
  },
  {
   "cell_type": "code",
   "execution_count": 51,
   "metadata": {},
   "outputs": [
    {
     "data": {
      "text/html": [
       "<div><img alt=\"Output\" src=\"data:image/png;base64,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\"></div>"
      ]
     },
     "execution_count": 51,
     "metadata": {
      "text/html": []
     },
     "output_type": "execute_result"
    }
   ],
   "source": [
    "Inverse[V] // MatrixForm"
   ]
  },
  {
   "cell_type": "code",
   "execution_count": 37,
   "metadata": {},
   "outputs": [],
   "source": [
    "{{u1}, {u2}, {u3}} = V.d.Inverse[V].{{1}, {-1}, {1}};\n"
   ]
  },
  {
   "cell_type": "code",
   "execution_count": 45,
   "metadata": {},
   "outputs": [
    {
     "data": {
      "text/html": [
       "<div><img alt=\"Output\" src=\"data:image/png;base64,iVBORw0KGgoAAAANSUhEUgAAAEIAAAAlCAIAAAB5x6hdAAAAhXpUWHRSYXcgcHJvZmlsZSB0eXBlIGV4aWYAAHjaVYvBDcMwDAP/mqIjyLJM2uMYiQNkg45fuu0n9yApgbT1vi97felp2dgxABc5csRU6P6juNciDXn+X9MfZGWgoRhTluEkhnJXkqKFN+LCAahYcIbnIV8gNQN3o86928QyPusLVffpbh/5eCey76LuBgAAAAlwSFlzAAALEwAACxMBAJqcGAAAADx0RVh0U29mdHdhcmUAQ3JlYXRlZCB3aXRoIHRoZSBXb2xmcmFtIExhbmd1YWdlIDogd3d3LndvbGZyYW0uY29tXKKmhQAAACF0RVh0Q3JlYXRpb24gVGltZQAyMDE5OjEwOjEyIDAwOjU5OjMyw0FjQQAABAtJREFUWIXlmEtIMlEUx69OIQjSi4jKMSyhQoIgNEitoCCKSg3CqEXSQmoRQQlt22SLiqCViyhclBGBUYsW0gMSei3KoBeJIL1wEBXfTc3MtyjMbyqwcay+vt9Kzrnnnv/x3jv3zDAIggD/PszvFvA+Ho/n6ekp/vE/rozr62upVKpWq4VC4ebmZqwrEAhoNJr3w4gfBo7jLpeLIAiDwTAwMBC1WywWtVoNw3Bvb69WqyVFvZYRDAZXVla6u7v7+vpoEXR4eKhQKHg8nkgkWl5ejj8QQZDh4eHq6uqLi4uo0efzmc3mmpoau93ucDhIIa+b6v7+3mg0Hh8fn5ycJL43/H5/R0dHbW2tyWRqbm5WqVRnZ2dxxrLZbJlMlp+fbzKZokYOh8Pj8dhsNp/P5/F45BhSWZOTkxKJhPIKxIJhWPQ3l8s1GAzxRDmdTo/HQxCEzWYTi8WxLofD8ZG2JB5xJvNlcp/PhyBIcXExaQCKojqdTiAQtLa2zs3NhUIhAMDV1VVDQ4NSqVQqlVqtNnY8DMMsFksulysUChRFv2g1omg0GolEguM4yT42NiaRSLq6uoLBoNFo7OzsjLrcbvfj4+O7syEI8vDwQDKmJG81ntHr9UtLS7u7uwwGI9YeiUQ2Njby8vKampr29/dzcnIODg4wDIMgCACQkZHx0YTZ2dlvjcktY35+fmhoaG1traSkhOQKhUIsFsvtdofDYZfLBQDQ6XTRffhZXstAURTHcRRFMQyLRCIMBoPFYlEuAAAwMzPT399vMBjKy8vdbjcEQWlpaVFvZmam1+vNzc0FALS3twMAnE4nacU+QXR7VVRUxNrT09MTOQ+3t7ckTQKBgDTGZrM9J1Wr1W1tbT09PZFIhFo6BvHdreHd3V0gEODz+ampqZQn+f4yaOHHtYbU+O/L2NracjgcNEpJBOplnJ6eIghCo5REeLk3LBbLzs7OW7dMJpNKpSTj0dGR1+u9vLyEICgQCMAwLBAISGM+mpBeovKoPKnW19cRBDGbzUVFRYWFhaWlpWKxOAkiPwGVZqSxsREA4Pf7KysrRSIR3ZKoQP1swDAc21x8L7/u+tvb25PL5QUFBWVlZePj41+mgJ68z60VjuMtLS1TU1NWq3V2dpbJZC4uLlLuC+OHrrzvf+ARCoXT09OJKaQC5bx/Pak8Hs/5+fnCwoLL5VKpVDTsmPigIW9sTXq9PiUlBQAwMTHx9tU5eSSel7ypMAzb3t7mcrmjo6N0KIyXBPO+fzZGRkaqqqoSE0YFynlfHrh2u72+vt5qtRIEgSDI6urq289KyYC2vM/VhMPhwcHBrKwsDocDQVBdXR2CIDT+zR9BV17yLX5zc8PhcL6+y0gw769rRv5pfkkZfwBp4tI4zvS9HgAAAABJRU5ErkJggg==\"></div>"
      ]
     },
     "execution_count": 45,
     "metadata": {
      "text/html": []
     },
     "output_type": "execute_result"
    }
   ],
   "source": [
    "u1"
   ]
  },
  {
   "cell_type": "code",
   "execution_count": 46,
   "metadata": {},
   "outputs": [
    {
     "data": {
      "text/html": [
       "<div><img alt=\"Output\" src=\"data:image/png;base64,iVBORw0KGgoAAAANSUhEUgAAAEIAAAAlCAIAAAB5x6hdAAAAhXpUWHRSYXcgcHJvZmlsZSB0eXBlIGV4aWYAAHjaVYvBDcMwDAP/mqIjyLJM2uMYiQNkg45fuu0n9yApgbT1vi97felp2dgxABc5csRU6P6juNciDXn+X9MfZGWgoRhTluEkhnJXkqKFN+LCAahYcIbnIV8gNQN3o86928QyPusLVffpbh/5eCey76LuBgAAAAlwSFlzAAALEwAACxMBAJqcGAAAADx0RVh0U29mdHdhcmUAQ3JlYXRlZCB3aXRoIHRoZSBXb2xmcmFtIExhbmd1YWdlIDogd3d3LndvbGZyYW0uY29tXKKmhQAAACF0RVh0Q3JlYXRpb24gVGltZQAyMDE5OjEwOjEyIDAwOjU5OjM0KiLGdAAAA75JREFUWIXtWE1IKl0YnmulIAz9EUGlNSCUSKtAotFaFARBmZEUBSUtolZBDLRtoy5KgyBoEQ1t0lVFUC2iCHLRz6LGTUEiSdLPMDgV6oxTznwLL5N3rvJ5x7lfftGzO+95/573vOf4jj84jgP+/5B9dgLpQZLk+/t79vp5R+Pu7s5gMFitVp1Od3h4mLoViUTGx8fTm3F5BpZlCYLgOG5tbW1qaoqXe71eq9WqUqkmJiYQBBFYfdCIRqNbW1ujo6OTk5PSZoYgiMViyV4fx/GZmZnW1tbr62te+Pr6ur+/39bWFggEgsGgwOSjqR4eHtxu9+Xlpc/nk7BJUBRdWlo6Pz/P3kSpVBqNxurq6s3NTV4IgqBarVYqlRAEqdVqoY2AltPphGFYdOEF8Pl8ZWVlTqezrq4uS5OnpyeSJDmO8/v9er0+dSsYDGbK7S9e8UgkYrFYbDZbQ0NDWgWGYex2u0aj6enpQVE0FosBAHBzc9PZ2Wk2m81mM4IgqfoqlUqhUJhMpt7eXoZhfvEloCXhaQwODiavxM7OTtrTcDgcMAwPDw9Ho1G32z00NMRvhcPht7e3tG5xHI/H4wLh3zoNFEU9Ho9Wq3W5XBsbGy8vLy6XiyRJXoGm6YODg6qqqq6urtPT08rKyrOzs0QikdwtLS0tLCxM67miokIulwuE6VVzh1wuHxkZub29BQAgFAoxDINhGE3TvEIsFlMoFOFwmKIogiAAALDb7TKZ2LLy5xKPxymKcjgczc3NFEXRNC1BY3Ecl7mpYBju7+9fWVlJLh8fH0WH+KDR1NSUSq+kpES0UwF2d3chCPpd7vf7k0GtVmtfX9/Y2Jjo2v3gPns0vL+/j0QiEAQVFRWJdvL5NCRB3o2G4vBNI5/wRWj8/Pnzer3Hx8e/bxuNRoPBIBBeXFw8Pz/zS5VKpdFoBDqZHEoLPj0xL9Xe3h6O4/xSq9Xq9Xops/tzfD+4+YQvR+Pk5MRkMtXW1jY2Ns7Nzf1nGUgTNzlasSzb3d29sLCAYdjq6qpMJvN4POKmtD+CVHHT/8Gj0+kWFxdzy1AMRMf95bOJJMmrq6v19XWCIAYGBiTomOwgQdxUTsvLy8lPx/n5eZZlJSrxvyP3uMKmSiQSR0dHNTU1NptNigyzRY5x09+N2dnZlpaW3BITA9Fxfz64gUCgo6MDwzCO43Ac397erq+vl675M0KyuEk2FEVNT0+Xl5eDIFhQUNDe3o7juIRlzgSp4gpnqlAoBIJgcXGxNNXOGjnG/R4N8wlfhMY/MNttMRiRducAAAAASUVORK5CYII=\"></div>"
      ]
     },
     "execution_count": 46,
     "metadata": {
      "text/html": []
     },
     "output_type": "execute_result"
    }
   ],
   "source": [
    "u2"
   ]
  },
  {
   "cell_type": "code",
   "execution_count": 47,
   "metadata": {},
   "outputs": [
    {
     "data": {
      "text/html": [
       "<div><img alt=\"Output\" src=\"data:image/png;base64,iVBORw0KGgoAAAANSUhEUgAAAEIAAAAlCAIAAAB5x6hdAAAAhXpUWHRSYXcgcHJvZmlsZSB0eXBlIGV4aWYAAHjaVYvBDcMwDAP/mqIjyLJM2uMYiQNkg45fuu0n9yApgbT1vi97felp2dgxABc5csRU6P6juNciDXn+X9MfZGWgoRhTluEkhnJXkqKFN+LCAahYcIbnIV8gNQN3o86928QyPusLVffpbh/5eCey76LuBgAAAAlwSFlzAAALEwAACxMBAJqcGAAAADx0RVh0U29mdHdhcmUAQ3JlYXRlZCB3aXRoIHRoZSBXb2xmcmFtIExhbmd1YWdlIDogd3d3LndvbGZyYW0uY29tXKKmhQAAACF0RVh0Q3JlYXRpb24gVGltZQAyMDE5OjEwOjEyIDAwOjU5OjU1C39RZAAABAtJREFUWIXlmEtIMlEUx69OIQjSi4jKMSyhQoIgNEitoCCKSg3CqEXSQmoRQQlt22SLiqCViyhclBGBUYsW0gMSei3KoBeJIL1wEBXfTc3MtyjMbyqwcay+vt9Kzrnnnv/x3jv3zDAIggD/PszvFvA+Ho/n6ekp/vE/rozr62upVKpWq4VC4ebmZqwrEAhoNJr3w4gfBo7jLpeLIAiDwTAwMBC1WywWtVoNw3Bvb69WqyVFvZYRDAZXVla6u7v7+vpoEXR4eKhQKHg8nkgkWl5ejj8QQZDh4eHq6uqLi4uo0efzmc3mmpoau93ucDhIIa+b6v7+3mg0Hh8fn5ycJL43/H5/R0dHbW2tyWRqbm5WqVRnZ2dxxrLZbJlMlp+fbzKZokYOh8Pj8dhsNp/P5/F45BhSWZOTkxKJhPIKxIJhWPQ3l8s1GAzxRDmdTo/HQxCEzWYTi8WxLofD8ZG2JB5xJvNlcp/PhyBIcXExaQCKojqdTiAQtLa2zs3NhUIhAMDV1VVDQ4NSqVQqlVqtNnY8DMMsFksulysUChRFv2g1omg0GolEguM4yT42NiaRSLq6uoLBoNFo7OzsjLrcbvfj4+O7syEI8vDwQDKmJG81ntHr9UtLS7u7uwwGI9YeiUQ2Njby8vKampr29/dzcnIODg4wDIMgCACQkZHx0YTZ2dlvjcktY35+fmhoaG1traSkhOQKhUIsFsvtdofDYZfLBQDQ6XTRffhZXstAURTHcRRFMQyLRCIMBoPFYlEuAAAwMzPT399vMBjKy8vdbjcEQWlpaVFvZmam1+vNzc0FALS3twMAnE4nacU+QXR7VVRUxNrT09MTOQ+3t7ckTQKBgDTGZrM9J1Wr1W1tbT09PZFIhFo6BvHdreHd3V0gEODz+ampqZQn+f4yaOHHtYbU+O/L2NracjgcNEpJBOplnJ6eIghCo5REeLk3LBbLzs7OW7dMJpNKpSTj0dGR1+u9vLyEICgQCMAwLBAISGM+mpBeovKoPKnW19cRBDGbzUVFRYWFhaWlpWKxOAkiPwGVZqSxsREA4Pf7KysrRSIR3ZKoQP1swDAc21x8L7/u+tvb25PL5QUFBWVlZePj41+mgJ68z60VjuMtLS1TU1NWq3V2dpbJZC4uLlLuC+OHrrzvf+ARCoXT09OJKaQC5bx/Pak8Hs/5+fnCwoLL5VKpVDTsmPigIW9sTXq9PiUlBQAwMTHx9tU5eSSel7ypMAzb3t7mcrmjo6N0KIyXBPO+fzZGRkaqqqoSE0YFynlfHrh2u72+vt5qtRIEgSDI6urq289KyYC2vM/VhMPhwcHBrKwsDocDQVBdXR2CIDT+zR9BV17yLX5zc8PhcL6+y0gw769rRv5pfkkZfwBp4tI4zvS9HgAAAABJRU5ErkJggg==\"></div>"
      ]
     },
     "execution_count": 47,
     "metadata": {
      "text/html": []
     },
     "output_type": "execute_result"
    }
   ],
   "source": [
    "u3"
   ]
  },
  {
   "cell_type": "code",
   "execution_count": null,
   "metadata": {},
   "outputs": [],
   "source": []
  },
  {
   "cell_type": "code",
   "execution_count": null,
   "metadata": {},
   "outputs": [],
   "source": []
  },
  {
   "cell_type": "code",
   "execution_count": null,
   "metadata": {},
   "outputs": [],
   "source": []
  },
  {
   "cell_type": "code",
   "execution_count": null,
   "metadata": {},
   "outputs": [],
   "source": []
  },
  {
   "cell_type": "code",
   "execution_count": 59,
   "metadata": {},
   "outputs": [
    {
     "data": {
      "text/html": [
       "<div><img alt=\"Output\" src=\"data:image/png;base64,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\"></div>"
      ]
     },
     "execution_count": 60,
     "metadata": {
      "text/html": []
     },
     "output_type": "execute_result"
    }
   ],
   "source": [
    "A = {{5, -3}, {0, 4}};\n",
    "A // MatrixForm"
   ]
  },
  {
   "cell_type": "code",
   "execution_count": 61,
   "metadata": {},
   "outputs": [
    {
     "data": {
      "text/html": [
       "<div><pre style=\"&#102;&#111;&#110;&#116;&#45;&#102;&#97;&#109;&#105;&#108;&#121;&#58;&#32;&#34;&#67;&#111;&#117;&#114;&#105;&#101;&#114;&#32;&#78;&#101;&#119;&#34;&#44;&#67;&#111;&#117;&#114;&#105;&#101;&#114;&#44;&#109;&#111;&#110;&#111;&#115;&#112;&#97;&#99;&#101;&#59;\">&#123;&#123;&#53;&#44;&#32;&#52;&#125;&#44;&#32;&#123;&#123;&#49;&#44;&#32;&#48;&#125;&#44;&#32;&#123;&#51;&#44;&#32;&#49;&#125;&#125;&#125;</pre></div>"
      ]
     },
     "execution_count": 61,
     "metadata": {
      "text/html": []
     },
     "output_type": "execute_result"
    }
   ],
   "source": [
    "Eigensystem[A]"
   ]
  },
  {
   "cell_type": "code",
   "execution_count": null,
   "metadata": {},
   "outputs": [],
   "source": []
  }
 ],
 "metadata": {
  "kernelspec": {
   "display_name": "Wolfram Language 11.3",
   "language": "Wolfram Language",
   "name": "wolframlanguage11.3"
  },
  "language_info": {
   "codemirror_mode": "mathematica",
   "file_extension": ".m",
   "mimetype": "application/vnd.wolfram.m",
   "name": "Wolfram Language",
   "pygments_lexer": "mathematica",
   "version": "12.0"
  }
 },
 "nbformat": 4,
 "nbformat_minor": 2
}
