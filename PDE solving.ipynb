{
 "cells": [
  {
   "cell_type": "code",
   "execution_count": 46,
   "metadata": {},
   "outputs": [],
   "source": [
    "import torch\n",
    "import torch.nn as nn\n",
    "import torch.optim as optim\n",
    "\n",
    "import numpy as np\n",
    "import matplotlib.pyplot as plt\n",
    "\n",
    "from IPython.display import clear_output\n",
    "import tqdm\n",
    "\n",
    "from pprint import pprint"
   ]
  },
  {
   "cell_type": "code",
   "execution_count": 47,
   "metadata": {},
   "outputs": [],
   "source": [
    "net = nn.Sequential(nn.Linear(2, 5), nn.ReLU(),\n",
    "                    nn.Linear(5, 1))\n",
    "\n",
    "# opts = [optim.Adam(net.parameters(), lr=0.001)]\n",
    "\n",
    "d      = 0.01\n",
    "x, y   = torch.arange(0, 1 + d / 2, d), torch.arange(0, 1 + d / 2, d)\n",
    "X, Y   = torch.meshgrid((x, y))\n",
    "grid   = torch.stack((X.flatten(), Y.flatten())).transpose(1, 0)\n",
    "\n",
    "X_, Y_ = torch.meshgrid((x[1:-1], y[1:-1]))\n",
    "ingrd  = torch.stack((X_.flatten(), Y_.flatten())).transpose(1, 0)\n",
    "n = x.shape[0]"
   ]
  },
  {
   "cell_type": "code",
   "execution_count": 48,
   "metadata": {},
   "outputs": [],
   "source": [
    "bounds = {\n",
    "    'x': {\n",
    "        'l': {\n",
    "            'var_ind': 1,\n",
    "            'value'  : 0,\n",
    "            'values' : x,\n",
    "            'func'   : lambda _x: _x,\n",
    "            'grid'   : grid[:n]\n",
    "        },\n",
    "        'r': {\n",
    "            'var_ind': 1,\n",
    "            'value'  : 1,\n",
    "            'values' : x,\n",
    "            'func'   : lambda _x: _x + torch.tensor([1.0]),\n",
    "            'grid'   : grid[-n:]\n",
    "        }\n",
    "    },\n",
    "    'y': {\n",
    "        'l': {\n",
    "            'var_ind': 0,\n",
    "            'value'  : 0,\n",
    "            'values' : y,\n",
    "            'func'   : lambda _y: _y,\n",
    "            'grid'   : grid[::n]\n",
    "        },\n",
    "        'r': {\n",
    "            'var_ind': 0,\n",
    "            'value'  : 1,\n",
    "            'values' : y,\n",
    "            'func'   : lambda _y: _y + torch.tensor([1.0]),\n",
    "            'grid'   : grid[n - 1::n]\n",
    "        }\n",
    "    }\n",
    "}"
   ]
  },
  {
   "cell_type": "code",
   "execution_count": 49,
   "metadata": {},
   "outputs": [],
   "source": [
    "opts   = [optim.Adagrad(net.parameters(), lr=0.1)]\n",
    "DX, DY = torch.tensor([d, 0.0]), torch.tensor([0.0, d])\n",
    "errors = list()\n",
    "epochs = 1001\n",
    "plot   = True"
   ]
  },
  {
   "cell_type": "code",
   "execution_count": 50,
   "metadata": {},
   "outputs": [
    {
     "data": {
      "image/png": "[encoded data removed]",
      "text/plain": [
       "<Figure size 432x288 with 1 Axes>"
      ]
     },
     "metadata": {
      "needs_background": "light"
     },
     "output_type": "display_data"
    },
    {
     "name": "stderr",
     "output_type": "stream",
     "text": [
      "100%|██████████| 1001/1001 [00:06<00:00, 164.96it/s]\n"
     ]
    }
   ],
   "source": [
    "for epoch in tqdm.tqdm(range(epochs)):\n",
    "    \n",
    "    opts[epoch % len(opts)].zero_grad()\n",
    "    loss = 0\n",
    "    \n",
    "    x_prev, x_cur, x_next = ingrd - DX, ingrd, ingrd + DX\n",
    "    y_prev, y_cur, y_next = ingrd - DY, ingrd, ingrd + DY\n",
    "    \n",
    "    u_x_prev, u_x_cur, u_x_next = net(x_prev), net(x_cur), net(x_next)\n",
    "    u_y_prev, u_y_cur, u_y_next = net(y_prev), net(y_cur), net(y_next)\n",
    "    \n",
    "    du_dx = (u_x_next - u_x_prev) / (2 * d)\n",
    "    du_dy = (u_y_next - u_y_prev) / (2 * d)\n",
    "    \n",
    "    l1 = ((du_dx + du_dy - (2)) ** 2).sum() / x_cur.shape[0]\n",
    "    l2 = 0\n",
    "    \n",
    "    count = 0\n",
    "    \n",
    "    for var_name, var_bounds in bounds.items():\n",
    "        for var_bound, bound_info in var_bounds.items():\n",
    "            var_ind = bound_info['var_ind']\n",
    "            var_vls = bound_info['values']\n",
    "            var_fun = bound_info['func']\n",
    "            var_grd = bound_info['grid']\n",
    "            try:\n",
    "                l2 +=  ((net(var_grd) - var_fun(var_grd[:, var_ind])[:, None]) ** 2).sum()\n",
    "            except Exception:\n",
    "                l2 += ((net(var_grd) - var_fun(var_grd[:, var_ind])) ** 2).sum()\n",
    "            \n",
    "            count += var_vls.shape[0]\n",
    "            \n",
    "    l2 = l2 / count\n",
    "    loss = l1 + l2\n",
    "    \n",
    "    loss.backward()\n",
    "    opts[epoch % len(opts)].step()\n",
    "    \n",
    "    errors += [(l1 + l2).item()]\n",
    "    \n",
    "    if plot and epoch % 250 == 0:\n",
    "        \n",
    "        clear_output()\n",
    "        \n",
    "        plt.plot(np.log10(np.array(errors)), label='log(error)')\n",
    "        plt.legend()\n",
    "        plt.grid()\n",
    "        plt.show()"
   ]
  },
  {
   "cell_type": "code",
   "execution_count": 41,
   "metadata": {},
   "outputs": [],
   "source": [
    "x = bounds['x']['l']['grid']\n",
    "y = net(x)\n",
    "y_= (bounds['x']['l']['func'](x[:, 1]))[:, None]"
   ]
  },
  {
   "cell_type": "code",
   "execution_count": 42,
   "metadata": {},
   "outputs": [
    {
     "data": {
      "text/plain": [
       "tensor(8.5458e-06, grad_fn=<MaxBackward1>)"
      ]
     },
     "execution_count": 42,
     "metadata": {},
     "output_type": "execute_result"
    }
   ],
   "source": [
    "torch.abs(y - y_).max()"
   ]
  },
  {
   "cell_type": "code",
   "execution_count": 43,
   "metadata": {},
   "outputs": [],
   "source": [
    "x = ingrd\n",
    "y = net(x)\n",
    "y_= ((x[:, 0] + x[:, 1]))[:, None]"
   ]
  },
  {
   "cell_type": "code",
   "execution_count": 44,
   "metadata": {},
   "outputs": [
    {
     "data": {
      "text/plain": [
       "tensor(8.5458e-06, grad_fn=<MaxBackward1>)"
      ]
     },
     "execution_count": 44,
     "metadata": {},
     "output_type": "execute_result"
    }
   ],
   "source": [
    "torch.abs((y - y_)).max()"
   ]
  },
  {
   "cell_type": "code",
   "execution_count": 45,
   "metadata": {},
   "outputs": [
    {
     "data": {
      "text/plain": [
       "[5.048020362854004, 4.927708801005792e-07]"
      ]
     },
     "execution_count": 45,
     "metadata": {},
     "output_type": "execute_result"
    }
   ],
   "source": [
    "errors[::1000]"
   ]
  }
 ],
 "metadata": {
  "kernelspec": {
   "display_name": "Python 3",
   "language": "python",
   "name": "python3"
  },
  "language_info": {
   "codemirror_mode": {
    "name": "ipython",
    "version": 3
   },
   "file_extension": ".py",
   "mimetype": "text/x-python",
   "name": "python",
   "nbconvert_exporter": "python",
   "pygments_lexer": "ipython3",
   "version": "3.7.4"
  }
 },
 "nbformat": 4,
 "nbformat_minor": 4
}
